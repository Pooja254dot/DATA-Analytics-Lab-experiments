{
  "nbformat": 4,
  "nbformat_minor": 0,
  "metadata": {
    "colab": {
      "name": "EXP4.IPNYB",
      "provenance": [],
      "collapsed_sections": [],
      "mount_file_id": "12WQHGnJloKBE0nuIdTnYECVS-rmG6ePG",
      "authorship_tag": "ABX9TyOWOk6aCmbbDAZjB7SRCqN6",
      "include_colab_link": true
    },
    "kernelspec": {
      "name": "python3",
      "display_name": "Python 3"
    },
    "language_info": {
      "name": "python"
    }
  },
  "cells": [
    {
      "cell_type": "markdown",
      "metadata": {
        "id": "view-in-github",
        "colab_type": "text"
      },
      "source": [
        "<a href=\"https://colab.research.google.com/github/Pooja254dot/DATA-Analytics-Lab-experiments/blob/main/EXP4_IPNYB.ipynb\" target=\"_parent\"><img src=\"https://colab.research.google.com/assets/colab-badge.svg\" alt=\"Open In Colab\"/></a>"
      ]
    },
    {
      "cell_type": "code",
      "execution_count": null,
      "metadata": {
        "id": "a1M8psywV89S"
      },
      "outputs": [],
      "source": [
        "import pandas as pd\n",
        "import numpy as np\n",
        "import seaborn as sns\n",
        "import matplotlib.pyplot as plt\n",
        "%matplotlib inline\n",
        "sns.set(color_codes=True)"
      ]
    },
    {
      "cell_type": "code",
      "source": [
        "data=pd.read_csv('/content/drive/MyDrive/climate_change.csv')"
      ],
      "metadata": {
        "id": "DjwhCY6qWRbL"
      },
      "execution_count": null,
      "outputs": []
    },
    {
      "cell_type": "code",
      "source": [
        "data"
      ],
      "metadata": {
        "colab": {
          "base_uri": "https://localhost:8080/",
          "height": 424
        },
        "id": "3EbetP2nWj2x",
        "outputId": "3b51b8d2-4d49-4b28-b7ca-3a5ad5841a2f"
      },
      "execution_count": null,
      "outputs": [
        {
          "output_type": "execute_result",
          "data": {
            "text/plain": [
              "     Year  Month    MEI     CO2      CH4      N2O   CFC-11   CFC-12  \\\n",
              "0    1983      5  2.556  345.96  1638.59  303.677  191.324  350.113   \n",
              "1    1983      6  2.167  345.52  1633.71  303.746  192.057  351.848   \n",
              "2    1983      7  1.741  344.15  1633.22  303.795  192.818  353.725   \n",
              "3    1983      8  1.130  342.25  1631.35  303.839  193.602  355.633   \n",
              "4    1983      9  0.428  340.17  1648.40  303.901  194.392  357.465   \n",
              "..    ...    ...    ...     ...      ...      ...      ...      ...   \n",
              "303  2008      8 -0.266  384.15  1779.88  321.405  244.200  535.072   \n",
              "304  2008      9 -0.643  383.09  1795.08  321.529  244.083  535.048   \n",
              "305  2008     10 -0.780  382.99  1814.18  321.796  244.080  534.927   \n",
              "306  2008     11 -0.621  384.13  1812.37  322.013  244.225  534.906   \n",
              "307  2008     12 -0.666  385.56  1812.88  322.182  244.204  535.005   \n",
              "\n",
              "           TSI  Aerosols   Temp  \n",
              "0    1366.1024    0.0863  0.109  \n",
              "1    1366.1208    0.0794  0.118  \n",
              "2    1366.2850    0.0731  0.137  \n",
              "3    1366.4202    0.0673  0.176  \n",
              "4    1366.2335    0.0619  0.149  \n",
              "..         ...       ...    ...  \n",
              "303  1365.6570    0.0036  0.407  \n",
              "304  1365.6647    0.0043  0.378  \n",
              "305  1365.6759    0.0046  0.440  \n",
              "306  1365.7065    0.0048  0.394  \n",
              "307  1365.6926    0.0046  0.330  \n",
              "\n",
              "[308 rows x 11 columns]"
            ],
            "text/html": [
              "\n",
              "  <div id=\"df-b099d34a-0374-4b18-b493-d9817e75b072\">\n",
              "    <div class=\"colab-df-container\">\n",
              "      <div>\n",
              "<style scoped>\n",
              "    .dataframe tbody tr th:only-of-type {\n",
              "        vertical-align: middle;\n",
              "    }\n",
              "\n",
              "    .dataframe tbody tr th {\n",
              "        vertical-align: top;\n",
              "    }\n",
              "\n",
              "    .dataframe thead th {\n",
              "        text-align: right;\n",
              "    }\n",
              "</style>\n",
              "<table border=\"1\" class=\"dataframe\">\n",
              "  <thead>\n",
              "    <tr style=\"text-align: right;\">\n",
              "      <th></th>\n",
              "      <th>Year</th>\n",
              "      <th>Month</th>\n",
              "      <th>MEI</th>\n",
              "      <th>CO2</th>\n",
              "      <th>CH4</th>\n",
              "      <th>N2O</th>\n",
              "      <th>CFC-11</th>\n",
              "      <th>CFC-12</th>\n",
              "      <th>TSI</th>\n",
              "      <th>Aerosols</th>\n",
              "      <th>Temp</th>\n",
              "    </tr>\n",
              "  </thead>\n",
              "  <tbody>\n",
              "    <tr>\n",
              "      <th>0</th>\n",
              "      <td>1983</td>\n",
              "      <td>5</td>\n",
              "      <td>2.556</td>\n",
              "      <td>345.96</td>\n",
              "      <td>1638.59</td>\n",
              "      <td>303.677</td>\n",
              "      <td>191.324</td>\n",
              "      <td>350.113</td>\n",
              "      <td>1366.1024</td>\n",
              "      <td>0.0863</td>\n",
              "      <td>0.109</td>\n",
              "    </tr>\n",
              "    <tr>\n",
              "      <th>1</th>\n",
              "      <td>1983</td>\n",
              "      <td>6</td>\n",
              "      <td>2.167</td>\n",
              "      <td>345.52</td>\n",
              "      <td>1633.71</td>\n",
              "      <td>303.746</td>\n",
              "      <td>192.057</td>\n",
              "      <td>351.848</td>\n",
              "      <td>1366.1208</td>\n",
              "      <td>0.0794</td>\n",
              "      <td>0.118</td>\n",
              "    </tr>\n",
              "    <tr>\n",
              "      <th>2</th>\n",
              "      <td>1983</td>\n",
              "      <td>7</td>\n",
              "      <td>1.741</td>\n",
              "      <td>344.15</td>\n",
              "      <td>1633.22</td>\n",
              "      <td>303.795</td>\n",
              "      <td>192.818</td>\n",
              "      <td>353.725</td>\n",
              "      <td>1366.2850</td>\n",
              "      <td>0.0731</td>\n",
              "      <td>0.137</td>\n",
              "    </tr>\n",
              "    <tr>\n",
              "      <th>3</th>\n",
              "      <td>1983</td>\n",
              "      <td>8</td>\n",
              "      <td>1.130</td>\n",
              "      <td>342.25</td>\n",
              "      <td>1631.35</td>\n",
              "      <td>303.839</td>\n",
              "      <td>193.602</td>\n",
              "      <td>355.633</td>\n",
              "      <td>1366.4202</td>\n",
              "      <td>0.0673</td>\n",
              "      <td>0.176</td>\n",
              "    </tr>\n",
              "    <tr>\n",
              "      <th>4</th>\n",
              "      <td>1983</td>\n",
              "      <td>9</td>\n",
              "      <td>0.428</td>\n",
              "      <td>340.17</td>\n",
              "      <td>1648.40</td>\n",
              "      <td>303.901</td>\n",
              "      <td>194.392</td>\n",
              "      <td>357.465</td>\n",
              "      <td>1366.2335</td>\n",
              "      <td>0.0619</td>\n",
              "      <td>0.149</td>\n",
              "    </tr>\n",
              "    <tr>\n",
              "      <th>...</th>\n",
              "      <td>...</td>\n",
              "      <td>...</td>\n",
              "      <td>...</td>\n",
              "      <td>...</td>\n",
              "      <td>...</td>\n",
              "      <td>...</td>\n",
              "      <td>...</td>\n",
              "      <td>...</td>\n",
              "      <td>...</td>\n",
              "      <td>...</td>\n",
              "      <td>...</td>\n",
              "    </tr>\n",
              "    <tr>\n",
              "      <th>303</th>\n",
              "      <td>2008</td>\n",
              "      <td>8</td>\n",
              "      <td>-0.266</td>\n",
              "      <td>384.15</td>\n",
              "      <td>1779.88</td>\n",
              "      <td>321.405</td>\n",
              "      <td>244.200</td>\n",
              "      <td>535.072</td>\n",
              "      <td>1365.6570</td>\n",
              "      <td>0.0036</td>\n",
              "      <td>0.407</td>\n",
              "    </tr>\n",
              "    <tr>\n",
              "      <th>304</th>\n",
              "      <td>2008</td>\n",
              "      <td>9</td>\n",
              "      <td>-0.643</td>\n",
              "      <td>383.09</td>\n",
              "      <td>1795.08</td>\n",
              "      <td>321.529</td>\n",
              "      <td>244.083</td>\n",
              "      <td>535.048</td>\n",
              "      <td>1365.6647</td>\n",
              "      <td>0.0043</td>\n",
              "      <td>0.378</td>\n",
              "    </tr>\n",
              "    <tr>\n",
              "      <th>305</th>\n",
              "      <td>2008</td>\n",
              "      <td>10</td>\n",
              "      <td>-0.780</td>\n",
              "      <td>382.99</td>\n",
              "      <td>1814.18</td>\n",
              "      <td>321.796</td>\n",
              "      <td>244.080</td>\n",
              "      <td>534.927</td>\n",
              "      <td>1365.6759</td>\n",
              "      <td>0.0046</td>\n",
              "      <td>0.440</td>\n",
              "    </tr>\n",
              "    <tr>\n",
              "      <th>306</th>\n",
              "      <td>2008</td>\n",
              "      <td>11</td>\n",
              "      <td>-0.621</td>\n",
              "      <td>384.13</td>\n",
              "      <td>1812.37</td>\n",
              "      <td>322.013</td>\n",
              "      <td>244.225</td>\n",
              "      <td>534.906</td>\n",
              "      <td>1365.7065</td>\n",
              "      <td>0.0048</td>\n",
              "      <td>0.394</td>\n",
              "    </tr>\n",
              "    <tr>\n",
              "      <th>307</th>\n",
              "      <td>2008</td>\n",
              "      <td>12</td>\n",
              "      <td>-0.666</td>\n",
              "      <td>385.56</td>\n",
              "      <td>1812.88</td>\n",
              "      <td>322.182</td>\n",
              "      <td>244.204</td>\n",
              "      <td>535.005</td>\n",
              "      <td>1365.6926</td>\n",
              "      <td>0.0046</td>\n",
              "      <td>0.330</td>\n",
              "    </tr>\n",
              "  </tbody>\n",
              "</table>\n",
              "<p>308 rows × 11 columns</p>\n",
              "</div>\n",
              "      <button class=\"colab-df-convert\" onclick=\"convertToInteractive('df-b099d34a-0374-4b18-b493-d9817e75b072')\"\n",
              "              title=\"Convert this dataframe to an interactive table.\"\n",
              "              style=\"display:none;\">\n",
              "        \n",
              "  <svg xmlns=\"http://www.w3.org/2000/svg\" height=\"24px\"viewBox=\"0 0 24 24\"\n",
              "       width=\"24px\">\n",
              "    <path d=\"M0 0h24v24H0V0z\" fill=\"none\"/>\n",
              "    <path d=\"M18.56 5.44l.94 2.06.94-2.06 2.06-.94-2.06-.94-.94-2.06-.94 2.06-2.06.94zm-11 1L8.5 8.5l.94-2.06 2.06-.94-2.06-.94L8.5 2.5l-.94 2.06-2.06.94zm10 10l.94 2.06.94-2.06 2.06-.94-2.06-.94-.94-2.06-.94 2.06-2.06.94z\"/><path d=\"M17.41 7.96l-1.37-1.37c-.4-.4-.92-.59-1.43-.59-.52 0-1.04.2-1.43.59L10.3 9.45l-7.72 7.72c-.78.78-.78 2.05 0 2.83L4 21.41c.39.39.9.59 1.41.59.51 0 1.02-.2 1.41-.59l7.78-7.78 2.81-2.81c.8-.78.8-2.07 0-2.86zM5.41 20L4 18.59l7.72-7.72 1.47 1.35L5.41 20z\"/>\n",
              "  </svg>\n",
              "      </button>\n",
              "      \n",
              "  <style>\n",
              "    .colab-df-container {\n",
              "      display:flex;\n",
              "      flex-wrap:wrap;\n",
              "      gap: 12px;\n",
              "    }\n",
              "\n",
              "    .colab-df-convert {\n",
              "      background-color: #E8F0FE;\n",
              "      border: none;\n",
              "      border-radius: 50%;\n",
              "      cursor: pointer;\n",
              "      display: none;\n",
              "      fill: #1967D2;\n",
              "      height: 32px;\n",
              "      padding: 0 0 0 0;\n",
              "      width: 32px;\n",
              "    }\n",
              "\n",
              "    .colab-df-convert:hover {\n",
              "      background-color: #E2EBFA;\n",
              "      box-shadow: 0px 1px 2px rgba(60, 64, 67, 0.3), 0px 1px 3px 1px rgba(60, 64, 67, 0.15);\n",
              "      fill: #174EA6;\n",
              "    }\n",
              "\n",
              "    [theme=dark] .colab-df-convert {\n",
              "      background-color: #3B4455;\n",
              "      fill: #D2E3FC;\n",
              "    }\n",
              "\n",
              "    [theme=dark] .colab-df-convert:hover {\n",
              "      background-color: #434B5C;\n",
              "      box-shadow: 0px 1px 3px 1px rgba(0, 0, 0, 0.15);\n",
              "      filter: drop-shadow(0px 1px 2px rgba(0, 0, 0, 0.3));\n",
              "      fill: #FFFFFF;\n",
              "    }\n",
              "  </style>\n",
              "\n",
              "      <script>\n",
              "        const buttonEl =\n",
              "          document.querySelector('#df-b099d34a-0374-4b18-b493-d9817e75b072 button.colab-df-convert');\n",
              "        buttonEl.style.display =\n",
              "          google.colab.kernel.accessAllowed ? 'block' : 'none';\n",
              "\n",
              "        async function convertToInteractive(key) {\n",
              "          const element = document.querySelector('#df-b099d34a-0374-4b18-b493-d9817e75b072');\n",
              "          const dataTable =\n",
              "            await google.colab.kernel.invokeFunction('convertToInteractive',\n",
              "                                                     [key], {});\n",
              "          if (!dataTable) return;\n",
              "\n",
              "          const docLinkHtml = 'Like what you see? Visit the ' +\n",
              "            '<a target=\"_blank\" href=https://colab.research.google.com/notebooks/data_table.ipynb>data table notebook</a>'\n",
              "            + ' to learn more about interactive tables.';\n",
              "          element.innerHTML = '';\n",
              "          dataTable['output_type'] = 'display_data';\n",
              "          await google.colab.output.renderOutput(dataTable, element);\n",
              "          const docLink = document.createElement('div');\n",
              "          docLink.innerHTML = docLinkHtml;\n",
              "          element.appendChild(docLink);\n",
              "        }\n",
              "      </script>\n",
              "    </div>\n",
              "  </div>\n",
              "  "
            ]
          },
          "metadata": {},
          "execution_count": 59
        }
      ]
    },
    {
      "cell_type": "code",
      "source": [
        "data.dtypes"
      ],
      "metadata": {
        "colab": {
          "base_uri": "https://localhost:8080/"
        },
        "id": "gAjZDwbBWtup",
        "outputId": "4eb73864-5870-44f8-ad14-1946ad185aff"
      },
      "execution_count": null,
      "outputs": [
        {
          "output_type": "execute_result",
          "data": {
            "text/plain": [
              "Year          int64\n",
              "Month         int64\n",
              "MEI         float64\n",
              "CO2         float64\n",
              "CH4         float64\n",
              "N2O         float64\n",
              "CFC-11      float64\n",
              "CFC-12      float64\n",
              "TSI         float64\n",
              "Aerosols    float64\n",
              "Temp        float64\n",
              "dtype: object"
            ]
          },
          "metadata": {},
          "execution_count": 60
        }
      ]
    },
    {
      "cell_type": "code",
      "source": [
        "data.shape\n",
        "print(\"No of data samples\")\n",
        "print(data.shape[0])\n",
        "print(\"No of data features\")\n",
        "print(data.shape[1])\n",
        "print(\"No. of missing values\")\n",
        "print(data.isnull().sum())"
      ],
      "metadata": {
        "colab": {
          "base_uri": "https://localhost:8080/"
        },
        "id": "5tt12dSUXQJj",
        "outputId": "9cedd2bc-3d32-4e88-f5ee-c88925b03b3f"
      },
      "execution_count": null,
      "outputs": [
        {
          "output_type": "stream",
          "name": "stdout",
          "text": [
            "No of data samples\n",
            "308\n",
            "No of data features\n",
            "11\n",
            "No. of missing values\n",
            "Year        0\n",
            "Month       0\n",
            "MEI         0\n",
            "CO2         0\n",
            "CH4         0\n",
            "N2O         0\n",
            "CFC-11      0\n",
            "CFC-12      0\n",
            "TSI         0\n",
            "Aerosols    0\n",
            "Temp        0\n",
            "dtype: int64\n"
          ]
        }
      ]
    },
    {
      "cell_type": "code",
      "source": [
        "data.columns"
      ],
      "metadata": {
        "colab": {
          "base_uri": "https://localhost:8080/"
        },
        "id": "pdjSYOLLYEkD",
        "outputId": "1b132aee-2648-4986-9222-49ec4e62b94a"
      },
      "execution_count": null,
      "outputs": [
        {
          "output_type": "execute_result",
          "data": {
            "text/plain": [
              "Index(['Year', 'Month', 'MEI', 'CO2', 'CH4', 'N2O', 'CFC-11', 'CFC-12', 'TSI',\n",
              "       'Aerosols', 'Temp'],\n",
              "      dtype='object')"
            ]
          },
          "metadata": {},
          "execution_count": 62
        }
      ]
    },
    {
      "cell_type": "code",
      "source": [
        "data.describe()"
      ],
      "metadata": {
        "colab": {
          "base_uri": "https://localhost:8080/",
          "height": 300
        },
        "id": "1ee0RxZ0a0ra",
        "outputId": "94b7f8bb-1b0b-4f8c-e96d-5c1b0aa01689"
      },
      "execution_count": null,
      "outputs": [
        {
          "output_type": "execute_result",
          "data": {
            "text/plain": [
              "              Year       Month         MEI         CO2          CH4  \\\n",
              "count   308.000000  308.000000  308.000000  308.000000   308.000000   \n",
              "mean   1995.662338    6.551948    0.275555  363.226753  1749.824513   \n",
              "std       7.423197    3.447214    0.937918   12.647125    46.051678   \n",
              "min    1983.000000    1.000000   -1.635000  340.170000  1629.890000   \n",
              "25%    1989.000000    4.000000   -0.398750  353.020000  1722.182500   \n",
              "50%    1996.000000    7.000000    0.237500  361.735000  1764.040000   \n",
              "75%    2002.000000   10.000000    0.830500  373.455000  1786.885000   \n",
              "max    2008.000000   12.000000    3.001000  388.500000  1814.180000   \n",
              "\n",
              "              N2O      CFC-11      CFC-12          TSI    Aerosols        Temp  \n",
              "count  308.000000  308.000000  308.000000   308.000000  308.000000  308.000000  \n",
              "mean   312.391834  251.973068  497.524782  1366.070759    0.016657    0.256776  \n",
              "std      5.225131   20.231783   57.826899     0.399610    0.029050    0.179090  \n",
              "min    303.677000  191.324000  350.113000  1365.426100    0.001600   -0.282000  \n",
              "25%    308.111500  246.295500  472.410750  1365.717050    0.002800    0.121750  \n",
              "50%    311.507000  258.344000  528.356000  1365.980900    0.005750    0.248000  \n",
              "75%    316.979000  267.031000  540.524250  1366.363250    0.012600    0.407250  \n",
              "max    322.182000  271.494000  543.813000  1367.316200    0.149400    0.739000  "
            ],
            "text/html": [
              "\n",
              "  <div id=\"df-20995a46-b134-4e3b-ba5d-6aef8e13ff99\">\n",
              "    <div class=\"colab-df-container\">\n",
              "      <div>\n",
              "<style scoped>\n",
              "    .dataframe tbody tr th:only-of-type {\n",
              "        vertical-align: middle;\n",
              "    }\n",
              "\n",
              "    .dataframe tbody tr th {\n",
              "        vertical-align: top;\n",
              "    }\n",
              "\n",
              "    .dataframe thead th {\n",
              "        text-align: right;\n",
              "    }\n",
              "</style>\n",
              "<table border=\"1\" class=\"dataframe\">\n",
              "  <thead>\n",
              "    <tr style=\"text-align: right;\">\n",
              "      <th></th>\n",
              "      <th>Year</th>\n",
              "      <th>Month</th>\n",
              "      <th>MEI</th>\n",
              "      <th>CO2</th>\n",
              "      <th>CH4</th>\n",
              "      <th>N2O</th>\n",
              "      <th>CFC-11</th>\n",
              "      <th>CFC-12</th>\n",
              "      <th>TSI</th>\n",
              "      <th>Aerosols</th>\n",
              "      <th>Temp</th>\n",
              "    </tr>\n",
              "  </thead>\n",
              "  <tbody>\n",
              "    <tr>\n",
              "      <th>count</th>\n",
              "      <td>308.000000</td>\n",
              "      <td>308.000000</td>\n",
              "      <td>308.000000</td>\n",
              "      <td>308.000000</td>\n",
              "      <td>308.000000</td>\n",
              "      <td>308.000000</td>\n",
              "      <td>308.000000</td>\n",
              "      <td>308.000000</td>\n",
              "      <td>308.000000</td>\n",
              "      <td>308.000000</td>\n",
              "      <td>308.000000</td>\n",
              "    </tr>\n",
              "    <tr>\n",
              "      <th>mean</th>\n",
              "      <td>1995.662338</td>\n",
              "      <td>6.551948</td>\n",
              "      <td>0.275555</td>\n",
              "      <td>363.226753</td>\n",
              "      <td>1749.824513</td>\n",
              "      <td>312.391834</td>\n",
              "      <td>251.973068</td>\n",
              "      <td>497.524782</td>\n",
              "      <td>1366.070759</td>\n",
              "      <td>0.016657</td>\n",
              "      <td>0.256776</td>\n",
              "    </tr>\n",
              "    <tr>\n",
              "      <th>std</th>\n",
              "      <td>7.423197</td>\n",
              "      <td>3.447214</td>\n",
              "      <td>0.937918</td>\n",
              "      <td>12.647125</td>\n",
              "      <td>46.051678</td>\n",
              "      <td>5.225131</td>\n",
              "      <td>20.231783</td>\n",
              "      <td>57.826899</td>\n",
              "      <td>0.399610</td>\n",
              "      <td>0.029050</td>\n",
              "      <td>0.179090</td>\n",
              "    </tr>\n",
              "    <tr>\n",
              "      <th>min</th>\n",
              "      <td>1983.000000</td>\n",
              "      <td>1.000000</td>\n",
              "      <td>-1.635000</td>\n",
              "      <td>340.170000</td>\n",
              "      <td>1629.890000</td>\n",
              "      <td>303.677000</td>\n",
              "      <td>191.324000</td>\n",
              "      <td>350.113000</td>\n",
              "      <td>1365.426100</td>\n",
              "      <td>0.001600</td>\n",
              "      <td>-0.282000</td>\n",
              "    </tr>\n",
              "    <tr>\n",
              "      <th>25%</th>\n",
              "      <td>1989.000000</td>\n",
              "      <td>4.000000</td>\n",
              "      <td>-0.398750</td>\n",
              "      <td>353.020000</td>\n",
              "      <td>1722.182500</td>\n",
              "      <td>308.111500</td>\n",
              "      <td>246.295500</td>\n",
              "      <td>472.410750</td>\n",
              "      <td>1365.717050</td>\n",
              "      <td>0.002800</td>\n",
              "      <td>0.121750</td>\n",
              "    </tr>\n",
              "    <tr>\n",
              "      <th>50%</th>\n",
              "      <td>1996.000000</td>\n",
              "      <td>7.000000</td>\n",
              "      <td>0.237500</td>\n",
              "      <td>361.735000</td>\n",
              "      <td>1764.040000</td>\n",
              "      <td>311.507000</td>\n",
              "      <td>258.344000</td>\n",
              "      <td>528.356000</td>\n",
              "      <td>1365.980900</td>\n",
              "      <td>0.005750</td>\n",
              "      <td>0.248000</td>\n",
              "    </tr>\n",
              "    <tr>\n",
              "      <th>75%</th>\n",
              "      <td>2002.000000</td>\n",
              "      <td>10.000000</td>\n",
              "      <td>0.830500</td>\n",
              "      <td>373.455000</td>\n",
              "      <td>1786.885000</td>\n",
              "      <td>316.979000</td>\n",
              "      <td>267.031000</td>\n",
              "      <td>540.524250</td>\n",
              "      <td>1366.363250</td>\n",
              "      <td>0.012600</td>\n",
              "      <td>0.407250</td>\n",
              "    </tr>\n",
              "    <tr>\n",
              "      <th>max</th>\n",
              "      <td>2008.000000</td>\n",
              "      <td>12.000000</td>\n",
              "      <td>3.001000</td>\n",
              "      <td>388.500000</td>\n",
              "      <td>1814.180000</td>\n",
              "      <td>322.182000</td>\n",
              "      <td>271.494000</td>\n",
              "      <td>543.813000</td>\n",
              "      <td>1367.316200</td>\n",
              "      <td>0.149400</td>\n",
              "      <td>0.739000</td>\n",
              "    </tr>\n",
              "  </tbody>\n",
              "</table>\n",
              "</div>\n",
              "      <button class=\"colab-df-convert\" onclick=\"convertToInteractive('df-20995a46-b134-4e3b-ba5d-6aef8e13ff99')\"\n",
              "              title=\"Convert this dataframe to an interactive table.\"\n",
              "              style=\"display:none;\">\n",
              "        \n",
              "  <svg xmlns=\"http://www.w3.org/2000/svg\" height=\"24px\"viewBox=\"0 0 24 24\"\n",
              "       width=\"24px\">\n",
              "    <path d=\"M0 0h24v24H0V0z\" fill=\"none\"/>\n",
              "    <path d=\"M18.56 5.44l.94 2.06.94-2.06 2.06-.94-2.06-.94-.94-2.06-.94 2.06-2.06.94zm-11 1L8.5 8.5l.94-2.06 2.06-.94-2.06-.94L8.5 2.5l-.94 2.06-2.06.94zm10 10l.94 2.06.94-2.06 2.06-.94-2.06-.94-.94-2.06-.94 2.06-2.06.94z\"/><path d=\"M17.41 7.96l-1.37-1.37c-.4-.4-.92-.59-1.43-.59-.52 0-1.04.2-1.43.59L10.3 9.45l-7.72 7.72c-.78.78-.78 2.05 0 2.83L4 21.41c.39.39.9.59 1.41.59.51 0 1.02-.2 1.41-.59l7.78-7.78 2.81-2.81c.8-.78.8-2.07 0-2.86zM5.41 20L4 18.59l7.72-7.72 1.47 1.35L5.41 20z\"/>\n",
              "  </svg>\n",
              "      </button>\n",
              "      \n",
              "  <style>\n",
              "    .colab-df-container {\n",
              "      display:flex;\n",
              "      flex-wrap:wrap;\n",
              "      gap: 12px;\n",
              "    }\n",
              "\n",
              "    .colab-df-convert {\n",
              "      background-color: #E8F0FE;\n",
              "      border: none;\n",
              "      border-radius: 50%;\n",
              "      cursor: pointer;\n",
              "      display: none;\n",
              "      fill: #1967D2;\n",
              "      height: 32px;\n",
              "      padding: 0 0 0 0;\n",
              "      width: 32px;\n",
              "    }\n",
              "\n",
              "    .colab-df-convert:hover {\n",
              "      background-color: #E2EBFA;\n",
              "      box-shadow: 0px 1px 2px rgba(60, 64, 67, 0.3), 0px 1px 3px 1px rgba(60, 64, 67, 0.15);\n",
              "      fill: #174EA6;\n",
              "    }\n",
              "\n",
              "    [theme=dark] .colab-df-convert {\n",
              "      background-color: #3B4455;\n",
              "      fill: #D2E3FC;\n",
              "    }\n",
              "\n",
              "    [theme=dark] .colab-df-convert:hover {\n",
              "      background-color: #434B5C;\n",
              "      box-shadow: 0px 1px 3px 1px rgba(0, 0, 0, 0.15);\n",
              "      filter: drop-shadow(0px 1px 2px rgba(0, 0, 0, 0.3));\n",
              "      fill: #FFFFFF;\n",
              "    }\n",
              "  </style>\n",
              "\n",
              "      <script>\n",
              "        const buttonEl =\n",
              "          document.querySelector('#df-20995a46-b134-4e3b-ba5d-6aef8e13ff99 button.colab-df-convert');\n",
              "        buttonEl.style.display =\n",
              "          google.colab.kernel.accessAllowed ? 'block' : 'none';\n",
              "\n",
              "        async function convertToInteractive(key) {\n",
              "          const element = document.querySelector('#df-20995a46-b134-4e3b-ba5d-6aef8e13ff99');\n",
              "          const dataTable =\n",
              "            await google.colab.kernel.invokeFunction('convertToInteractive',\n",
              "                                                     [key], {});\n",
              "          if (!dataTable) return;\n",
              "\n",
              "          const docLinkHtml = 'Like what you see? Visit the ' +\n",
              "            '<a target=\"_blank\" href=https://colab.research.google.com/notebooks/data_table.ipynb>data table notebook</a>'\n",
              "            + ' to learn more about interactive tables.';\n",
              "          element.innerHTML = '';\n",
              "          dataTable['output_type'] = 'display_data';\n",
              "          await google.colab.output.renderOutput(dataTable, element);\n",
              "          const docLink = document.createElement('div');\n",
              "          docLink.innerHTML = docLinkHtml;\n",
              "          element.appendChild(docLink);\n",
              "        }\n",
              "      </script>\n",
              "    </div>\n",
              "  </div>\n",
              "  "
            ]
          },
          "metadata": {},
          "execution_count": 63
        }
      ]
    },
    {
      "cell_type": "code",
      "source": [
        "sns.relplot(x='Year',y='Temp',data=data)"
      ],
      "metadata": {
        "colab": {
          "base_uri": "https://localhost:8080/",
          "height": 382
        },
        "id": "YSObpxHOYn8q",
        "outputId": "d6fce285-2dfe-4aad-df30-d4907d25285c"
      },
      "execution_count": null,
      "outputs": [
        {
          "output_type": "execute_result",
          "data": {
            "text/plain": [
              "<seaborn.axisgrid.FacetGrid at 0x7fae8a8b1190>"
            ]
          },
          "metadata": {},
          "execution_count": 64
        },
        {
          "output_type": "display_data",
          "data": {
            "text/plain": [
              "<Figure size 360x360 with 1 Axes>"
            ],
            "image/png": "[encoded data removed]"
          },
          "metadata": {}
        }
      ]
    },
    {
      "cell_type": "code",
      "source": [
        "plt.figure(figsize=[15,10])\n",
        "correlation=data.corr()\n",
        "sns.heatmap(correlation,xticklabels=correlation.columns,yticklabels=correlation.columns,cmap=\"BrBG\",annot=True)"
      ],
      "metadata": {
        "colab": {
          "base_uri": "https://localhost:8080/",
          "height": 615
        },
        "id": "yagp8W4eY5_i",
        "outputId": "7865eff9-e3ae-4e1b-b9e3-75237a4fdc26"
      },
      "execution_count": null,
      "outputs": [
        {
          "output_type": "execute_result",
          "data": {
            "text/plain": [
              "<matplotlib.axes._subplots.AxesSubplot at 0x7fae8a810450>"
            ]
          },
          "metadata": {},
          "execution_count": 65
        },
        {
          "output_type": "display_data",
          "data": {
            "text/plain": [
              "<Figure size 1080x720 with 2 Axes>"
            ],
            "image/png": "[encoded data removed]"
          },
          "metadata": {}
        }
      ]
    },
    {
      "cell_type": "code",
      "source": [
        "sns.distplot(data.Temp)"
      ],
      "metadata": {
        "colab": {
          "base_uri": "https://localhost:8080/",
          "height": 357
        },
        "id": "Gg7hNrJnaE2M",
        "outputId": "1b85649a-5fb3-4a05-ca90-1da3b01c5d4e"
      },
      "execution_count": null,
      "outputs": [
        {
          "output_type": "stream",
          "name": "stderr",
          "text": [
            "/usr/local/lib/python3.7/dist-packages/seaborn/distributions.py:2619: FutureWarning: `distplot` is a deprecated function and will be removed in a future version. Please adapt your code to use either `displot` (a figure-level function with similar flexibility) or `histplot` (an axes-level function for histograms).\n",
            "  warnings.warn(msg, FutureWarning)\n"
          ]
        },
        {
          "output_type": "execute_result",
          "data": {
            "text/plain": [
              "<matplotlib.axes._subplots.AxesSubplot at 0x7fae8a788550>"
            ]
          },
          "metadata": {},
          "execution_count": 66
        },
        {
          "output_type": "display_data",
          "data": {
            "text/plain": [
              "<Figure size 432x288 with 1 Axes>"
            ],
            "image/png": "[encoded data removed]"
          },
          "metadata": {}
        }
      ]
    },
    {
      "cell_type": "code",
      "source": [
        "sns.scatterplot(x=\"Year\",y=\"Temp\",data=data)"
      ],
      "metadata": {
        "colab": {
          "base_uri": "https://localhost:8080/",
          "height": 302
        },
        "id": "SWuG8D3kbWry",
        "outputId": "82ca24da-c1d3-4740-a907-ddf93bb4b728"
      },
      "execution_count": null,
      "outputs": [
        {
          "output_type": "execute_result",
          "data": {
            "text/plain": [
              "<matplotlib.axes._subplots.AxesSubplot at 0x7fae8a5e7690>"
            ]
          },
          "metadata": {},
          "execution_count": 67
        },
        {
          "output_type": "display_data",
          "data": {
            "text/plain": [
              "<Figure size 432x288 with 1 Axes>"
            ],
            "image/png": "[encoded data removed]"
          },
          "metadata": {}
        }
      ]
    },
    {
      "cell_type": "code",
      "source": [
        "sns.scatterplot(x=\"TSI\",y=\"Temp\",data=data)"
      ],
      "metadata": {
        "colab": {
          "base_uri": "https://localhost:8080/",
          "height": 302
        },
        "id": "hrwkhOevcKxB",
        "outputId": "35d0e0cb-ff9e-4bb7-9765-4a0dca97864b"
      },
      "execution_count": null,
      "outputs": [
        {
          "output_type": "execute_result",
          "data": {
            "text/plain": [
              "<matplotlib.axes._subplots.AxesSubplot at 0x7fae8a4f9d50>"
            ]
          },
          "metadata": {},
          "execution_count": 68
        },
        {
          "output_type": "display_data",
          "data": {
            "text/plain": [
              "<Figure size 432x288 with 1 Axes>"
            ],
            "image/png": "[encoded data removed]"
          },
          "metadata": {}
        }
      ]
    },
    {
      "cell_type": "code",
      "source": [
        "sns.scatterplot(x=\"CO2\",y=\"Temp\",data=data)"
      ],
      "metadata": {
        "colab": {
          "base_uri": "https://localhost:8080/",
          "height": 302
        },
        "id": "3UZ3hfXnesAj",
        "outputId": "eb6ed478-796c-4165-8b2f-7c32de341560"
      },
      "execution_count": null,
      "outputs": [
        {
          "output_type": "execute_result",
          "data": {
            "text/plain": [
              "<matplotlib.axes._subplots.AxesSubplot at 0x7fae8a473b50>"
            ]
          },
          "metadata": {},
          "execution_count": 69
        },
        {
          "output_type": "display_data",
          "data": {
            "text/plain": [
              "<Figure size 432x288 with 1 Axes>"
            ],
            "image/png": "[encoded data removed]"
          },
          "metadata": {}
        }
      ]
    },
    {
      "cell_type": "code",
      "source": [
        "sns.scatterplot(x=\"Aerosols\",y=\"Temp\",data=data)"
      ],
      "metadata": {
        "colab": {
          "base_uri": "https://localhost:8080/",
          "height": 302
        },
        "id": "SX-PStTFgl7z",
        "outputId": "ada08f58-e94f-47d2-da1c-cd1d3fb45f6e"
      },
      "execution_count": null,
      "outputs": [
        {
          "output_type": "execute_result",
          "data": {
            "text/plain": [
              "<matplotlib.axes._subplots.AxesSubplot at 0x7fae8a438210>"
            ]
          },
          "metadata": {},
          "execution_count": 70
        },
        {
          "output_type": "display_data",
          "data": {
            "text/plain": [
              "<Figure size 432x288 with 1 Axes>"
            ],
            "image/png": "[encoded data removed]"
          },
          "metadata": {}
        }
      ]
    },
    {
      "cell_type": "code",
      "source": [
        "sns.scatterplot(x=\"MEI\",y=\"Temp\",data=data)"
      ],
      "metadata": {
        "colab": {
          "base_uri": "https://localhost:8080/",
          "height": 302
        },
        "id": "adR-tSLfjnmb",
        "outputId": "a8d496a4-670d-456b-ab93-8d0bf698b508"
      },
      "execution_count": null,
      "outputs": [
        {
          "output_type": "execute_result",
          "data": {
            "text/plain": [
              "<matplotlib.axes._subplots.AxesSubplot at 0x7fae8a473150>"
            ]
          },
          "metadata": {},
          "execution_count": 71
        },
        {
          "output_type": "display_data",
          "data": {
            "text/plain": [
              "<Figure size 432x288 with 1 Axes>"
            ],
            "image/png": "[encoded data removed]"
          },
          "metadata": {}
        }
      ]
    },
    {
      "cell_type": "code",
      "source": [
        "sns.scatterplot(x=\"N2O\",y=\"Temp\",data=data)"
      ],
      "metadata": {
        "colab": {
          "base_uri": "https://localhost:8080/",
          "height": 302
        },
        "id": "3HCc0HJckEdy",
        "outputId": "e839677b-e56d-4d20-e297-6d332f292c5c"
      },
      "execution_count": null,
      "outputs": [
        {
          "output_type": "execute_result",
          "data": {
            "text/plain": [
              "<matplotlib.axes._subplots.AxesSubplot at 0x7fae8a30bc50>"
            ]
          },
          "metadata": {},
          "execution_count": 72
        },
        {
          "output_type": "display_data",
          "data": {
            "text/plain": [
              "<Figure size 432x288 with 1 Axes>"
            ],
            "image/png": "[encoded data removed]"
          },
          "metadata": {}
        }
      ]
    },
    {
      "cell_type": "code",
      "source": [
        "from sklearn.model_selection import train_test_split\n",
        "x = data[['MEI','CO2','CH4','N2O','CFC-11','CFC-12','TSI','Aerosols']]\n",
        "y = data['Temp']"
      ],
      "metadata": {
        "id": "jS90d-huoiMY"
      },
      "execution_count": null,
      "outputs": []
    },
    {
      "cell_type": "code",
      "source": [
        "x"
      ],
      "metadata": {
        "colab": {
          "base_uri": "https://localhost:8080/",
          "height": 424
        },
        "id": "cwQbxE5Rt9fg",
        "outputId": "86ab69a0-2cc8-4c06-a668-fb303792e046"
      },
      "execution_count": null,
      "outputs": [
        {
          "output_type": "execute_result",
          "data": {
            "text/plain": [
              "       MEI     CO2      CH4      N2O   CFC-11   CFC-12        TSI  Aerosols\n",
              "0    2.556  345.96  1638.59  303.677  191.324  350.113  1366.1024    0.0863\n",
              "1    2.167  345.52  1633.71  303.746  192.057  351.848  1366.1208    0.0794\n",
              "2    1.741  344.15  1633.22  303.795  192.818  353.725  1366.2850    0.0731\n",
              "3    1.130  342.25  1631.35  303.839  193.602  355.633  1366.4202    0.0673\n",
              "4    0.428  340.17  1648.40  303.901  194.392  357.465  1366.2335    0.0619\n",
              "..     ...     ...      ...      ...      ...      ...        ...       ...\n",
              "303 -0.266  384.15  1779.88  321.405  244.200  535.072  1365.6570    0.0036\n",
              "304 -0.643  383.09  1795.08  321.529  244.083  535.048  1365.6647    0.0043\n",
              "305 -0.780  382.99  1814.18  321.796  244.080  534.927  1365.6759    0.0046\n",
              "306 -0.621  384.13  1812.37  322.013  244.225  534.906  1365.7065    0.0048\n",
              "307 -0.666  385.56  1812.88  322.182  244.204  535.005  1365.6926    0.0046\n",
              "\n",
              "[308 rows x 8 columns]"
            ],
            "text/html": [
              "\n",
              "  <div id=\"df-18ea3b0e-358e-4004-b61c-6e8fd55a972e\">\n",
              "    <div class=\"colab-df-container\">\n",
              "      <div>\n",
              "<style scoped>\n",
              "    .dataframe tbody tr th:only-of-type {\n",
              "        vertical-align: middle;\n",
              "    }\n",
              "\n",
              "    .dataframe tbody tr th {\n",
              "        vertical-align: top;\n",
              "    }\n",
              "\n",
              "    .dataframe thead th {\n",
              "        text-align: right;\n",
              "    }\n",
              "</style>\n",
              "<table border=\"1\" class=\"dataframe\">\n",
              "  <thead>\n",
              "    <tr style=\"text-align: right;\">\n",
              "      <th></th>\n",
              "      <th>MEI</th>\n",
              "      <th>CO2</th>\n",
              "      <th>CH4</th>\n",
              "      <th>N2O</th>\n",
              "      <th>CFC-11</th>\n",
              "      <th>CFC-12</th>\n",
              "      <th>TSI</th>\n",
              "      <th>Aerosols</th>\n",
              "    </tr>\n",
              "  </thead>\n",
              "  <tbody>\n",
              "    <tr>\n",
              "      <th>0</th>\n",
              "      <td>2.556</td>\n",
              "      <td>345.96</td>\n",
              "      <td>1638.59</td>\n",
              "      <td>303.677</td>\n",
              "      <td>191.324</td>\n",
              "      <td>350.113</td>\n",
              "      <td>1366.1024</td>\n",
              "      <td>0.0863</td>\n",
              "    </tr>\n",
              "    <tr>\n",
              "      <th>1</th>\n",
              "      <td>2.167</td>\n",
              "      <td>345.52</td>\n",
              "      <td>1633.71</td>\n",
              "      <td>303.746</td>\n",
              "      <td>192.057</td>\n",
              "      <td>351.848</td>\n",
              "      <td>1366.1208</td>\n",
              "      <td>0.0794</td>\n",
              "    </tr>\n",
              "    <tr>\n",
              "      <th>2</th>\n",
              "      <td>1.741</td>\n",
              "      <td>344.15</td>\n",
              "      <td>1633.22</td>\n",
              "      <td>303.795</td>\n",
              "      <td>192.818</td>\n",
              "      <td>353.725</td>\n",
              "      <td>1366.2850</td>\n",
              "      <td>0.0731</td>\n",
              "    </tr>\n",
              "    <tr>\n",
              "      <th>3</th>\n",
              "      <td>1.130</td>\n",
              "      <td>342.25</td>\n",
              "      <td>1631.35</td>\n",
              "      <td>303.839</td>\n",
              "      <td>193.602</td>\n",
              "      <td>355.633</td>\n",
              "      <td>1366.4202</td>\n",
              "      <td>0.0673</td>\n",
              "    </tr>\n",
              "    <tr>\n",
              "      <th>4</th>\n",
              "      <td>0.428</td>\n",
              "      <td>340.17</td>\n",
              "      <td>1648.40</td>\n",
              "      <td>303.901</td>\n",
              "      <td>194.392</td>\n",
              "      <td>357.465</td>\n",
              "      <td>1366.2335</td>\n",
              "      <td>0.0619</td>\n",
              "    </tr>\n",
              "    <tr>\n",
              "      <th>...</th>\n",
              "      <td>...</td>\n",
              "      <td>...</td>\n",
              "      <td>...</td>\n",
              "      <td>...</td>\n",
              "      <td>...</td>\n",
              "      <td>...</td>\n",
              "      <td>...</td>\n",
              "      <td>...</td>\n",
              "    </tr>\n",
              "    <tr>\n",
              "      <th>303</th>\n",
              "      <td>-0.266</td>\n",
              "      <td>384.15</td>\n",
              "      <td>1779.88</td>\n",
              "      <td>321.405</td>\n",
              "      <td>244.200</td>\n",
              "      <td>535.072</td>\n",
              "      <td>1365.6570</td>\n",
              "      <td>0.0036</td>\n",
              "    </tr>\n",
              "    <tr>\n",
              "      <th>304</th>\n",
              "      <td>-0.643</td>\n",
              "      <td>383.09</td>\n",
              "      <td>1795.08</td>\n",
              "      <td>321.529</td>\n",
              "      <td>244.083</td>\n",
              "      <td>535.048</td>\n",
              "      <td>1365.6647</td>\n",
              "      <td>0.0043</td>\n",
              "    </tr>\n",
              "    <tr>\n",
              "      <th>305</th>\n",
              "      <td>-0.780</td>\n",
              "      <td>382.99</td>\n",
              "      <td>1814.18</td>\n",
              "      <td>321.796</td>\n",
              "      <td>244.080</td>\n",
              "      <td>534.927</td>\n",
              "      <td>1365.6759</td>\n",
              "      <td>0.0046</td>\n",
              "    </tr>\n",
              "    <tr>\n",
              "      <th>306</th>\n",
              "      <td>-0.621</td>\n",
              "      <td>384.13</td>\n",
              "      <td>1812.37</td>\n",
              "      <td>322.013</td>\n",
              "      <td>244.225</td>\n",
              "      <td>534.906</td>\n",
              "      <td>1365.7065</td>\n",
              "      <td>0.0048</td>\n",
              "    </tr>\n",
              "    <tr>\n",
              "      <th>307</th>\n",
              "      <td>-0.666</td>\n",
              "      <td>385.56</td>\n",
              "      <td>1812.88</td>\n",
              "      <td>322.182</td>\n",
              "      <td>244.204</td>\n",
              "      <td>535.005</td>\n",
              "      <td>1365.6926</td>\n",
              "      <td>0.0046</td>\n",
              "    </tr>\n",
              "  </tbody>\n",
              "</table>\n",
              "<p>308 rows × 8 columns</p>\n",
              "</div>\n",
              "      <button class=\"colab-df-convert\" onclick=\"convertToInteractive('df-18ea3b0e-358e-4004-b61c-6e8fd55a972e')\"\n",
              "              title=\"Convert this dataframe to an interactive table.\"\n",
              "              style=\"display:none;\">\n",
              "        \n",
              "  <svg xmlns=\"http://www.w3.org/2000/svg\" height=\"24px\"viewBox=\"0 0 24 24\"\n",
              "       width=\"24px\">\n",
              "    <path d=\"M0 0h24v24H0V0z\" fill=\"none\"/>\n",
              "    <path d=\"M18.56 5.44l.94 2.06.94-2.06 2.06-.94-2.06-.94-.94-2.06-.94 2.06-2.06.94zm-11 1L8.5 8.5l.94-2.06 2.06-.94-2.06-.94L8.5 2.5l-.94 2.06-2.06.94zm10 10l.94 2.06.94-2.06 2.06-.94-2.06-.94-.94-2.06-.94 2.06-2.06.94z\"/><path d=\"M17.41 7.96l-1.37-1.37c-.4-.4-.92-.59-1.43-.59-.52 0-1.04.2-1.43.59L10.3 9.45l-7.72 7.72c-.78.78-.78 2.05 0 2.83L4 21.41c.39.39.9.59 1.41.59.51 0 1.02-.2 1.41-.59l7.78-7.78 2.81-2.81c.8-.78.8-2.07 0-2.86zM5.41 20L4 18.59l7.72-7.72 1.47 1.35L5.41 20z\"/>\n",
              "  </svg>\n",
              "      </button>\n",
              "      \n",
              "  <style>\n",
              "    .colab-df-container {\n",
              "      display:flex;\n",
              "      flex-wrap:wrap;\n",
              "      gap: 12px;\n",
              "    }\n",
              "\n",
              "    .colab-df-convert {\n",
              "      background-color: #E8F0FE;\n",
              "      border: none;\n",
              "      border-radius: 50%;\n",
              "      cursor: pointer;\n",
              "      display: none;\n",
              "      fill: #1967D2;\n",
              "      height: 32px;\n",
              "      padding: 0 0 0 0;\n",
              "      width: 32px;\n",
              "    }\n",
              "\n",
              "    .colab-df-convert:hover {\n",
              "      background-color: #E2EBFA;\n",
              "      box-shadow: 0px 1px 2px rgba(60, 64, 67, 0.3), 0px 1px 3px 1px rgba(60, 64, 67, 0.15);\n",
              "      fill: #174EA6;\n",
              "    }\n",
              "\n",
              "    [theme=dark] .colab-df-convert {\n",
              "      background-color: #3B4455;\n",
              "      fill: #D2E3FC;\n",
              "    }\n",
              "\n",
              "    [theme=dark] .colab-df-convert:hover {\n",
              "      background-color: #434B5C;\n",
              "      box-shadow: 0px 1px 3px 1px rgba(0, 0, 0, 0.15);\n",
              "      filter: drop-shadow(0px 1px 2px rgba(0, 0, 0, 0.3));\n",
              "      fill: #FFFFFF;\n",
              "    }\n",
              "  </style>\n",
              "\n",
              "      <script>\n",
              "        const buttonEl =\n",
              "          document.querySelector('#df-18ea3b0e-358e-4004-b61c-6e8fd55a972e button.colab-df-convert');\n",
              "        buttonEl.style.display =\n",
              "          google.colab.kernel.accessAllowed ? 'block' : 'none';\n",
              "\n",
              "        async function convertToInteractive(key) {\n",
              "          const element = document.querySelector('#df-18ea3b0e-358e-4004-b61c-6e8fd55a972e');\n",
              "          const dataTable =\n",
              "            await google.colab.kernel.invokeFunction('convertToInteractive',\n",
              "                                                     [key], {});\n",
              "          if (!dataTable) return;\n",
              "\n",
              "          const docLinkHtml = 'Like what you see? Visit the ' +\n",
              "            '<a target=\"_blank\" href=https://colab.research.google.com/notebooks/data_table.ipynb>data table notebook</a>'\n",
              "            + ' to learn more about interactive tables.';\n",
              "          element.innerHTML = '';\n",
              "          dataTable['output_type'] = 'display_data';\n",
              "          await google.colab.output.renderOutput(dataTable, element);\n",
              "          const docLink = document.createElement('div');\n",
              "          docLink.innerHTML = docLinkHtml;\n",
              "          element.appendChild(docLink);\n",
              "        }\n",
              "      </script>\n",
              "    </div>\n",
              "  </div>\n",
              "  "
            ]
          },
          "metadata": {},
          "execution_count": 74
        }
      ]
    },
    {
      "cell_type": "code",
      "source": [
        "y"
      ],
      "metadata": {
        "colab": {
          "base_uri": "https://localhost:8080/"
        },
        "id": "Zd78j20Rvw30",
        "outputId": "61c1b39b-4b65-46a1-a497-ccd649c68ee9"
      },
      "execution_count": null,
      "outputs": [
        {
          "output_type": "execute_result",
          "data": {
            "text/plain": [
              "0      0.109\n",
              "1      0.118\n",
              "2      0.137\n",
              "3      0.176\n",
              "4      0.149\n",
              "       ...  \n",
              "303    0.407\n",
              "304    0.378\n",
              "305    0.440\n",
              "306    0.394\n",
              "307    0.330\n",
              "Name: Temp, Length: 308, dtype: float64"
            ]
          },
          "metadata": {},
          "execution_count": 75
        }
      ]
    },
    {
      "cell_type": "code",
      "source": [
        "from sklearn.linear_model import LinearRegression\n",
        "x_train, x_test, y_train, y_test = train_test_split(x, y, test_size = 0.2)"
      ],
      "metadata": {
        "id": "RvcBzEuVyRUm"
      },
      "execution_count": null,
      "outputs": []
    },
    {
      "cell_type": "code",
      "source": [
        "x_train"
      ],
      "metadata": {
        "colab": {
          "base_uri": "https://localhost:8080/",
          "height": 424
        },
        "id": "rwAovJ1RnayB",
        "outputId": "f6ac7240-faf7-44e4-a174-f7af8d2c00be"
      },
      "execution_count": null,
      "outputs": [
        {
          "output_type": "execute_result",
          "data": {
            "text/plain": [
              "       MEI     CO2      CH4      N2O   CFC-11   CFC-12        TSI  Aerosols\n",
              "182  0.285  367.74  1762.46  313.542  265.787  536.151  1366.2444    0.0025\n",
              "241  0.026  378.18  1791.12  317.558  256.239  542.162  1366.0914    0.0025\n",
              "249  0.330  377.87  1798.45  318.188  255.018  543.039  1366.0890    0.0024\n",
              "24  -0.731  348.92  1666.83  305.045  211.823  379.539  1365.6366    0.0128\n",
              "31  -0.293  345.82  1677.99  305.653  217.326  394.539  1365.6794    0.0122\n",
              "..     ...     ...      ...      ...      ...      ...        ...       ...\n",
              "299 -0.942  387.16  1792.57  321.354  245.086  535.648  1365.7146    0.0033\n",
              "75  -0.501  351.53  1707.22  307.830  255.528  468.631  1366.5084    0.0083\n",
              "21  -0.602  346.06  1666.21  305.243  209.543  374.681  1365.7085    0.0160\n",
              "204  0.157  371.51  1774.19  315.434  262.655  541.342  1366.3611    0.0021\n",
              "111  0.536  354.91  1725.65  309.985  269.912  507.207  1366.0305    0.1141\n",
              "\n",
              "[246 rows x 8 columns]"
            ],
            "text/html": [
              "\n",
              "  <div id=\"df-bc005c01-4a84-4f35-8778-2f8c6aa72abb\">\n",
              "    <div class=\"colab-df-container\">\n",
              "      <div>\n",
              "<style scoped>\n",
              "    .dataframe tbody tr th:only-of-type {\n",
              "        vertical-align: middle;\n",
              "    }\n",
              "\n",
              "    .dataframe tbody tr th {\n",
              "        vertical-align: top;\n",
              "    }\n",
              "\n",
              "    .dataframe thead th {\n",
              "        text-align: right;\n",
              "    }\n",
              "</style>\n",
              "<table border=\"1\" class=\"dataframe\">\n",
              "  <thead>\n",
              "    <tr style=\"text-align: right;\">\n",
              "      <th></th>\n",
              "      <th>MEI</th>\n",
              "      <th>CO2</th>\n",
              "      <th>CH4</th>\n",
              "      <th>N2O</th>\n",
              "      <th>CFC-11</th>\n",
              "      <th>CFC-12</th>\n",
              "      <th>TSI</th>\n",
              "      <th>Aerosols</th>\n",
              "    </tr>\n",
              "  </thead>\n",
              "  <tbody>\n",
              "    <tr>\n",
              "      <th>182</th>\n",
              "      <td>0.285</td>\n",
              "      <td>367.74</td>\n",
              "      <td>1762.46</td>\n",
              "      <td>313.542</td>\n",
              "      <td>265.787</td>\n",
              "      <td>536.151</td>\n",
              "      <td>1366.2444</td>\n",
              "      <td>0.0025</td>\n",
              "    </tr>\n",
              "    <tr>\n",
              "      <th>241</th>\n",
              "      <td>0.026</td>\n",
              "      <td>378.18</td>\n",
              "      <td>1791.12</td>\n",
              "      <td>317.558</td>\n",
              "      <td>256.239</td>\n",
              "      <td>542.162</td>\n",
              "      <td>1366.0914</td>\n",
              "      <td>0.0025</td>\n",
              "    </tr>\n",
              "    <tr>\n",
              "      <th>249</th>\n",
              "      <td>0.330</td>\n",
              "      <td>377.87</td>\n",
              "      <td>1798.45</td>\n",
              "      <td>318.188</td>\n",
              "      <td>255.018</td>\n",
              "      <td>543.039</td>\n",
              "      <td>1366.0890</td>\n",
              "      <td>0.0024</td>\n",
              "    </tr>\n",
              "    <tr>\n",
              "      <th>24</th>\n",
              "      <td>-0.731</td>\n",
              "      <td>348.92</td>\n",
              "      <td>1666.83</td>\n",
              "      <td>305.045</td>\n",
              "      <td>211.823</td>\n",
              "      <td>379.539</td>\n",
              "      <td>1365.6366</td>\n",
              "      <td>0.0128</td>\n",
              "    </tr>\n",
              "    <tr>\n",
              "      <th>31</th>\n",
              "      <td>-0.293</td>\n",
              "      <td>345.82</td>\n",
              "      <td>1677.99</td>\n",
              "      <td>305.653</td>\n",
              "      <td>217.326</td>\n",
              "      <td>394.539</td>\n",
              "      <td>1365.6794</td>\n",
              "      <td>0.0122</td>\n",
              "    </tr>\n",
              "    <tr>\n",
              "      <th>...</th>\n",
              "      <td>...</td>\n",
              "      <td>...</td>\n",
              "      <td>...</td>\n",
              "      <td>...</td>\n",
              "      <td>...</td>\n",
              "      <td>...</td>\n",
              "      <td>...</td>\n",
              "      <td>...</td>\n",
              "    </tr>\n",
              "    <tr>\n",
              "      <th>299</th>\n",
              "      <td>-0.942</td>\n",
              "      <td>387.16</td>\n",
              "      <td>1792.57</td>\n",
              "      <td>321.354</td>\n",
              "      <td>245.086</td>\n",
              "      <td>535.648</td>\n",
              "      <td>1365.7146</td>\n",
              "      <td>0.0033</td>\n",
              "    </tr>\n",
              "    <tr>\n",
              "      <th>75</th>\n",
              "      <td>-0.501</td>\n",
              "      <td>351.53</td>\n",
              "      <td>1707.22</td>\n",
              "      <td>307.830</td>\n",
              "      <td>255.528</td>\n",
              "      <td>468.631</td>\n",
              "      <td>1366.5084</td>\n",
              "      <td>0.0083</td>\n",
              "    </tr>\n",
              "    <tr>\n",
              "      <th>21</th>\n",
              "      <td>-0.602</td>\n",
              "      <td>346.06</td>\n",
              "      <td>1666.21</td>\n",
              "      <td>305.243</td>\n",
              "      <td>209.543</td>\n",
              "      <td>374.681</td>\n",
              "      <td>1365.7085</td>\n",
              "      <td>0.0160</td>\n",
              "    </tr>\n",
              "    <tr>\n",
              "      <th>204</th>\n",
              "      <td>0.157</td>\n",
              "      <td>371.51</td>\n",
              "      <td>1774.19</td>\n",
              "      <td>315.434</td>\n",
              "      <td>262.655</td>\n",
              "      <td>541.342</td>\n",
              "      <td>1366.3611</td>\n",
              "      <td>0.0021</td>\n",
              "    </tr>\n",
              "    <tr>\n",
              "      <th>111</th>\n",
              "      <td>0.536</td>\n",
              "      <td>354.91</td>\n",
              "      <td>1725.65</td>\n",
              "      <td>309.985</td>\n",
              "      <td>269.912</td>\n",
              "      <td>507.207</td>\n",
              "      <td>1366.0305</td>\n",
              "      <td>0.1141</td>\n",
              "    </tr>\n",
              "  </tbody>\n",
              "</table>\n",
              "<p>246 rows × 8 columns</p>\n",
              "</div>\n",
              "      <button class=\"colab-df-convert\" onclick=\"convertToInteractive('df-bc005c01-4a84-4f35-8778-2f8c6aa72abb')\"\n",
              "              title=\"Convert this dataframe to an interactive table.\"\n",
              "              style=\"display:none;\">\n",
              "        \n",
              "  <svg xmlns=\"http://www.w3.org/2000/svg\" height=\"24px\"viewBox=\"0 0 24 24\"\n",
              "       width=\"24px\">\n",
              "    <path d=\"M0 0h24v24H0V0z\" fill=\"none\"/>\n",
              "    <path d=\"M18.56 5.44l.94 2.06.94-2.06 2.06-.94-2.06-.94-.94-2.06-.94 2.06-2.06.94zm-11 1L8.5 8.5l.94-2.06 2.06-.94-2.06-.94L8.5 2.5l-.94 2.06-2.06.94zm10 10l.94 2.06.94-2.06 2.06-.94-2.06-.94-.94-2.06-.94 2.06-2.06.94z\"/><path d=\"M17.41 7.96l-1.37-1.37c-.4-.4-.92-.59-1.43-.59-.52 0-1.04.2-1.43.59L10.3 9.45l-7.72 7.72c-.78.78-.78 2.05 0 2.83L4 21.41c.39.39.9.59 1.41.59.51 0 1.02-.2 1.41-.59l7.78-7.78 2.81-2.81c.8-.78.8-2.07 0-2.86zM5.41 20L4 18.59l7.72-7.72 1.47 1.35L5.41 20z\"/>\n",
              "  </svg>\n",
              "      </button>\n",
              "      \n",
              "  <style>\n",
              "    .colab-df-container {\n",
              "      display:flex;\n",
              "      flex-wrap:wrap;\n",
              "      gap: 12px;\n",
              "    }\n",
              "\n",
              "    .colab-df-convert {\n",
              "      background-color: #E8F0FE;\n",
              "      border: none;\n",
              "      border-radius: 50%;\n",
              "      cursor: pointer;\n",
              "      display: none;\n",
              "      fill: #1967D2;\n",
              "      height: 32px;\n",
              "      padding: 0 0 0 0;\n",
              "      width: 32px;\n",
              "    }\n",
              "\n",
              "    .colab-df-convert:hover {\n",
              "      background-color: #E2EBFA;\n",
              "      box-shadow: 0px 1px 2px rgba(60, 64, 67, 0.3), 0px 1px 3px 1px rgba(60, 64, 67, 0.15);\n",
              "      fill: #174EA6;\n",
              "    }\n",
              "\n",
              "    [theme=dark] .colab-df-convert {\n",
              "      background-color: #3B4455;\n",
              "      fill: #D2E3FC;\n",
              "    }\n",
              "\n",
              "    [theme=dark] .colab-df-convert:hover {\n",
              "      background-color: #434B5C;\n",
              "      box-shadow: 0px 1px 3px 1px rgba(0, 0, 0, 0.15);\n",
              "      filter: drop-shadow(0px 1px 2px rgba(0, 0, 0, 0.3));\n",
              "      fill: #FFFFFF;\n",
              "    }\n",
              "  </style>\n",
              "\n",
              "      <script>\n",
              "        const buttonEl =\n",
              "          document.querySelector('#df-bc005c01-4a84-4f35-8778-2f8c6aa72abb button.colab-df-convert');\n",
              "        buttonEl.style.display =\n",
              "          google.colab.kernel.accessAllowed ? 'block' : 'none';\n",
              "\n",
              "        async function convertToInteractive(key) {\n",
              "          const element = document.querySelector('#df-bc005c01-4a84-4f35-8778-2f8c6aa72abb');\n",
              "          const dataTable =\n",
              "            await google.colab.kernel.invokeFunction('convertToInteractive',\n",
              "                                                     [key], {});\n",
              "          if (!dataTable) return;\n",
              "\n",
              "          const docLinkHtml = 'Like what you see? Visit the ' +\n",
              "            '<a target=\"_blank\" href=https://colab.research.google.com/notebooks/data_table.ipynb>data table notebook</a>'\n",
              "            + ' to learn more about interactive tables.';\n",
              "          element.innerHTML = '';\n",
              "          dataTable['output_type'] = 'display_data';\n",
              "          await google.colab.output.renderOutput(dataTable, element);\n",
              "          const docLink = document.createElement('div');\n",
              "          docLink.innerHTML = docLinkHtml;\n",
              "          element.appendChild(docLink);\n",
              "        }\n",
              "      </script>\n",
              "    </div>\n",
              "  </div>\n",
              "  "
            ]
          },
          "metadata": {},
          "execution_count": 77
        }
      ]
    },
    {
      "cell_type": "code",
      "source": [
        "y_train"
      ],
      "metadata": {
        "colab": {
          "base_uri": "https://localhost:8080/"
        },
        "id": "noTSVYzAnfXH",
        "outputId": "8f65239c-c5ed-4326-8ebe-5e007c918d9f"
      },
      "execution_count": null,
      "outputs": [
        {
          "output_type": "execute_result",
          "data": {
            "text/plain": [
              "182    0.651\n",
              "241    0.437\n",
              "249    0.560\n",
              "24     0.001\n",
              "31    -0.002\n",
              "       ...  \n",
              "299    0.278\n",
              "75     0.168\n",
              "21    -0.155\n",
              "204    0.271\n",
              "111   -0.007\n",
              "Name: Temp, Length: 246, dtype: float64"
            ]
          },
          "metadata": {},
          "execution_count": 78
        }
      ]
    },
    {
      "cell_type": "code",
      "source": [
        "mlr = LinearRegression()  \n",
        "mlr.fit(x_train, y_train)\n",
        "mlr2=mlr.fit"
      ],
      "metadata": {
        "id": "G6frPhl_jqYJ"
      },
      "execution_count": null,
      "outputs": []
    },
    {
      "cell_type": "code",
      "source": [
        "print(\"Intercept: \", mlr.intercept_)\n",
        "print(\"Coefficients:\")\n",
        "list(zip(x, mlr.coef_))"
      ],
      "metadata": {
        "colab": {
          "base_uri": "https://localhost:8080/"
        },
        "id": "YnjcI_yij6W4",
        "outputId": "2b5307a4-bd3d-479a-c7c5-b784a1d68d09"
      },
      "execution_count": null,
      "outputs": [
        {
          "output_type": "stream",
          "name": "stdout",
          "text": [
            "Intercept:  -121.96596724570718\n",
            "Coefficients:\n"
          ]
        },
        {
          "output_type": "execute_result",
          "data": {
            "text/plain": [
              "[('MEI', 0.05995802026443543),\n",
              " ('CO2', 0.005077701753888326),\n",
              " ('CH4', -0.00022830799375531292),\n",
              " ('N2O', -0.01294633251044945),\n",
              " ('CFC-11', -0.006760922277840512),\n",
              " ('CFC-12', 0.004014999601257101),\n",
              " ('TSI', 0.09116293210558062),\n",
              " ('Aerosols', -1.5269692142059172)]"
            ]
          },
          "metadata": {},
          "execution_count": 80
        }
      ]
    },
    {
      "cell_type": "code",
      "source": [
        "data1=data[data['Year']>2006].reset_index(drop=True)"
      ],
      "metadata": {
        "id": "DXV4_ycxj9eY"
      },
      "execution_count": null,
      "outputs": []
    },
    {
      "cell_type": "code",
      "source": [
        "x_test = data[['MEI','CO2','CH4','N2O','CFC-11','CFC-12','TSI','Aerosols']]\n",
        "y_test= data['Temp']"
      ],
      "metadata": {
        "id": "K1pUpSflloHp"
      },
      "execution_count": null,
      "outputs": []
    },
    {
      "cell_type": "code",
      "source": [
        "x_test"
      ],
      "metadata": {
        "colab": {
          "base_uri": "https://localhost:8080/",
          "height": 424
        },
        "id": "-Z3A0KgPnkCf",
        "outputId": "a164d94f-a48f-45b0-ee87-28140816d1f8"
      },
      "execution_count": null,
      "outputs": [
        {
          "output_type": "execute_result",
          "data": {
            "text/plain": [
              "       MEI     CO2      CH4      N2O   CFC-11   CFC-12        TSI  Aerosols\n",
              "0    2.556  345.96  1638.59  303.677  191.324  350.113  1366.1024    0.0863\n",
              "1    2.167  345.52  1633.71  303.746  192.057  351.848  1366.1208    0.0794\n",
              "2    1.741  344.15  1633.22  303.795  192.818  353.725  1366.2850    0.0731\n",
              "3    1.130  342.25  1631.35  303.839  193.602  355.633  1366.4202    0.0673\n",
              "4    0.428  340.17  1648.40  303.901  194.392  357.465  1366.2335    0.0619\n",
              "..     ...     ...      ...      ...      ...      ...        ...       ...\n",
              "303 -0.266  384.15  1779.88  321.405  244.200  535.072  1365.6570    0.0036\n",
              "304 -0.643  383.09  1795.08  321.529  244.083  535.048  1365.6647    0.0043\n",
              "305 -0.780  382.99  1814.18  321.796  244.080  534.927  1365.6759    0.0046\n",
              "306 -0.621  384.13  1812.37  322.013  244.225  534.906  1365.7065    0.0048\n",
              "307 -0.666  385.56  1812.88  322.182  244.204  535.005  1365.6926    0.0046\n",
              "\n",
              "[308 rows x 8 columns]"
            ],
            "text/html": [
              "\n",
              "  <div id=\"df-65fdd6f9-4d5c-4ecd-8f5e-19638699c560\">\n",
              "    <div class=\"colab-df-container\">\n",
              "      <div>\n",
              "<style scoped>\n",
              "    .dataframe tbody tr th:only-of-type {\n",
              "        vertical-align: middle;\n",
              "    }\n",
              "\n",
              "    .dataframe tbody tr th {\n",
              "        vertical-align: top;\n",
              "    }\n",
              "\n",
              "    .dataframe thead th {\n",
              "        text-align: right;\n",
              "    }\n",
              "</style>\n",
              "<table border=\"1\" class=\"dataframe\">\n",
              "  <thead>\n",
              "    <tr style=\"text-align: right;\">\n",
              "      <th></th>\n",
              "      <th>MEI</th>\n",
              "      <th>CO2</th>\n",
              "      <th>CH4</th>\n",
              "      <th>N2O</th>\n",
              "      <th>CFC-11</th>\n",
              "      <th>CFC-12</th>\n",
              "      <th>TSI</th>\n",
              "      <th>Aerosols</th>\n",
              "    </tr>\n",
              "  </thead>\n",
              "  <tbody>\n",
              "    <tr>\n",
              "      <th>0</th>\n",
              "      <td>2.556</td>\n",
              "      <td>345.96</td>\n",
              "      <td>1638.59</td>\n",
              "      <td>303.677</td>\n",
              "      <td>191.324</td>\n",
              "      <td>350.113</td>\n",
              "      <td>1366.1024</td>\n",
              "      <td>0.0863</td>\n",
              "    </tr>\n",
              "    <tr>\n",
              "      <th>1</th>\n",
              "      <td>2.167</td>\n",
              "      <td>345.52</td>\n",
              "      <td>1633.71</td>\n",
              "      <td>303.746</td>\n",
              "      <td>192.057</td>\n",
              "      <td>351.848</td>\n",
              "      <td>1366.1208</td>\n",
              "      <td>0.0794</td>\n",
              "    </tr>\n",
              "    <tr>\n",
              "      <th>2</th>\n",
              "      <td>1.741</td>\n",
              "      <td>344.15</td>\n",
              "      <td>1633.22</td>\n",
              "      <td>303.795</td>\n",
              "      <td>192.818</td>\n",
              "      <td>353.725</td>\n",
              "      <td>1366.2850</td>\n",
              "      <td>0.0731</td>\n",
              "    </tr>\n",
              "    <tr>\n",
              "      <th>3</th>\n",
              "      <td>1.130</td>\n",
              "      <td>342.25</td>\n",
              "      <td>1631.35</td>\n",
              "      <td>303.839</td>\n",
              "      <td>193.602</td>\n",
              "      <td>355.633</td>\n",
              "      <td>1366.4202</td>\n",
              "      <td>0.0673</td>\n",
              "    </tr>\n",
              "    <tr>\n",
              "      <th>4</th>\n",
              "      <td>0.428</td>\n",
              "      <td>340.17</td>\n",
              "      <td>1648.40</td>\n",
              "      <td>303.901</td>\n",
              "      <td>194.392</td>\n",
              "      <td>357.465</td>\n",
              "      <td>1366.2335</td>\n",
              "      <td>0.0619</td>\n",
              "    </tr>\n",
              "    <tr>\n",
              "      <th>...</th>\n",
              "      <td>...</td>\n",
              "      <td>...</td>\n",
              "      <td>...</td>\n",
              "      <td>...</td>\n",
              "      <td>...</td>\n",
              "      <td>...</td>\n",
              "      <td>...</td>\n",
              "      <td>...</td>\n",
              "    </tr>\n",
              "    <tr>\n",
              "      <th>303</th>\n",
              "      <td>-0.266</td>\n",
              "      <td>384.15</td>\n",
              "      <td>1779.88</td>\n",
              "      <td>321.405</td>\n",
              "      <td>244.200</td>\n",
              "      <td>535.072</td>\n",
              "      <td>1365.6570</td>\n",
              "      <td>0.0036</td>\n",
              "    </tr>\n",
              "    <tr>\n",
              "      <th>304</th>\n",
              "      <td>-0.643</td>\n",
              "      <td>383.09</td>\n",
              "      <td>1795.08</td>\n",
              "      <td>321.529</td>\n",
              "      <td>244.083</td>\n",
              "      <td>535.048</td>\n",
              "      <td>1365.6647</td>\n",
              "      <td>0.0043</td>\n",
              "    </tr>\n",
              "    <tr>\n",
              "      <th>305</th>\n",
              "      <td>-0.780</td>\n",
              "      <td>382.99</td>\n",
              "      <td>1814.18</td>\n",
              "      <td>321.796</td>\n",
              "      <td>244.080</td>\n",
              "      <td>534.927</td>\n",
              "      <td>1365.6759</td>\n",
              "      <td>0.0046</td>\n",
              "    </tr>\n",
              "    <tr>\n",
              "      <th>306</th>\n",
              "      <td>-0.621</td>\n",
              "      <td>384.13</td>\n",
              "      <td>1812.37</td>\n",
              "      <td>322.013</td>\n",
              "      <td>244.225</td>\n",
              "      <td>534.906</td>\n",
              "      <td>1365.7065</td>\n",
              "      <td>0.0048</td>\n",
              "    </tr>\n",
              "    <tr>\n",
              "      <th>307</th>\n",
              "      <td>-0.666</td>\n",
              "      <td>385.56</td>\n",
              "      <td>1812.88</td>\n",
              "      <td>322.182</td>\n",
              "      <td>244.204</td>\n",
              "      <td>535.005</td>\n",
              "      <td>1365.6926</td>\n",
              "      <td>0.0046</td>\n",
              "    </tr>\n",
              "  </tbody>\n",
              "</table>\n",
              "<p>308 rows × 8 columns</p>\n",
              "</div>\n",
              "      <button class=\"colab-df-convert\" onclick=\"convertToInteractive('df-65fdd6f9-4d5c-4ecd-8f5e-19638699c560')\"\n",
              "              title=\"Convert this dataframe to an interactive table.\"\n",
              "              style=\"display:none;\">\n",
              "        \n",
              "  <svg xmlns=\"http://www.w3.org/2000/svg\" height=\"24px\"viewBox=\"0 0 24 24\"\n",
              "       width=\"24px\">\n",
              "    <path d=\"M0 0h24v24H0V0z\" fill=\"none\"/>\n",
              "    <path d=\"M18.56 5.44l.94 2.06.94-2.06 2.06-.94-2.06-.94-.94-2.06-.94 2.06-2.06.94zm-11 1L8.5 8.5l.94-2.06 2.06-.94-2.06-.94L8.5 2.5l-.94 2.06-2.06.94zm10 10l.94 2.06.94-2.06 2.06-.94-2.06-.94-.94-2.06-.94 2.06-2.06.94z\"/><path d=\"M17.41 7.96l-1.37-1.37c-.4-.4-.92-.59-1.43-.59-.52 0-1.04.2-1.43.59L10.3 9.45l-7.72 7.72c-.78.78-.78 2.05 0 2.83L4 21.41c.39.39.9.59 1.41.59.51 0 1.02-.2 1.41-.59l7.78-7.78 2.81-2.81c.8-.78.8-2.07 0-2.86zM5.41 20L4 18.59l7.72-7.72 1.47 1.35L5.41 20z\"/>\n",
              "  </svg>\n",
              "      </button>\n",
              "      \n",
              "  <style>\n",
              "    .colab-df-container {\n",
              "      display:flex;\n",
              "      flex-wrap:wrap;\n",
              "      gap: 12px;\n",
              "    }\n",
              "\n",
              "    .colab-df-convert {\n",
              "      background-color: #E8F0FE;\n",
              "      border: none;\n",
              "      border-radius: 50%;\n",
              "      cursor: pointer;\n",
              "      display: none;\n",
              "      fill: #1967D2;\n",
              "      height: 32px;\n",
              "      padding: 0 0 0 0;\n",
              "      width: 32px;\n",
              "    }\n",
              "\n",
              "    .colab-df-convert:hover {\n",
              "      background-color: #E2EBFA;\n",
              "      box-shadow: 0px 1px 2px rgba(60, 64, 67, 0.3), 0px 1px 3px 1px rgba(60, 64, 67, 0.15);\n",
              "      fill: #174EA6;\n",
              "    }\n",
              "\n",
              "    [theme=dark] .colab-df-convert {\n",
              "      background-color: #3B4455;\n",
              "      fill: #D2E3FC;\n",
              "    }\n",
              "\n",
              "    [theme=dark] .colab-df-convert:hover {\n",
              "      background-color: #434B5C;\n",
              "      box-shadow: 0px 1px 3px 1px rgba(0, 0, 0, 0.15);\n",
              "      filter: drop-shadow(0px 1px 2px rgba(0, 0, 0, 0.3));\n",
              "      fill: #FFFFFF;\n",
              "    }\n",
              "  </style>\n",
              "\n",
              "      <script>\n",
              "        const buttonEl =\n",
              "          document.querySelector('#df-65fdd6f9-4d5c-4ecd-8f5e-19638699c560 button.colab-df-convert');\n",
              "        buttonEl.style.display =\n",
              "          google.colab.kernel.accessAllowed ? 'block' : 'none';\n",
              "\n",
              "        async function convertToInteractive(key) {\n",
              "          const element = document.querySelector('#df-65fdd6f9-4d5c-4ecd-8f5e-19638699c560');\n",
              "          const dataTable =\n",
              "            await google.colab.kernel.invokeFunction('convertToInteractive',\n",
              "                                                     [key], {});\n",
              "          if (!dataTable) return;\n",
              "\n",
              "          const docLinkHtml = 'Like what you see? Visit the ' +\n",
              "            '<a target=\"_blank\" href=https://colab.research.google.com/notebooks/data_table.ipynb>data table notebook</a>'\n",
              "            + ' to learn more about interactive tables.';\n",
              "          element.innerHTML = '';\n",
              "          dataTable['output_type'] = 'display_data';\n",
              "          await google.colab.output.renderOutput(dataTable, element);\n",
              "          const docLink = document.createElement('div');\n",
              "          docLink.innerHTML = docLinkHtml;\n",
              "          element.appendChild(docLink);\n",
              "        }\n",
              "      </script>\n",
              "    </div>\n",
              "  </div>\n",
              "  "
            ]
          },
          "metadata": {},
          "execution_count": 83
        }
      ]
    },
    {
      "cell_type": "code",
      "source": [
        "y_test"
      ],
      "metadata": {
        "colab": {
          "base_uri": "https://localhost:8080/"
        },
        "id": "S49ILlRLnyWv",
        "outputId": "479e5b4a-4520-41f8-affe-96e3887379ba"
      },
      "execution_count": null,
      "outputs": [
        {
          "output_type": "execute_result",
          "data": {
            "text/plain": [
              "0      0.109\n",
              "1      0.118\n",
              "2      0.137\n",
              "3      0.176\n",
              "4      0.149\n",
              "       ...  \n",
              "303    0.407\n",
              "304    0.378\n",
              "305    0.440\n",
              "306    0.394\n",
              "307    0.330\n",
              "Name: Temp, Length: 308, dtype: float64"
            ]
          },
          "metadata": {},
          "execution_count": 84
        }
      ]
    },
    {
      "cell_type": "code",
      "source": [
        "y_pred_mlr= mlr.predict(x_test)\n",
        "print(\"Prediction for test set: {}\".format(y_pred_mlr))"
      ],
      "metadata": {
        "colab": {
          "base_uri": "https://localhost:8080/"
        },
        "id": "mXRDOO2DkjxZ",
        "outputId": "9300b326-e1fc-494d-a2fd-853ead891432"
      },
      "execution_count": null,
      "outputs": [
        {
          "output_type": "stream",
          "name": "stdout",
          "text": [
            "Prediction for test set: [ 1.56660298e-01  1.45547040e-01  1.39505924e-01  1.16622944e-01\n",
            "  5.25153350e-02  1.65390366e-02  2.51424007e-02  3.58068437e-02\n",
            " -2.25517807e-02 -5.76149138e-03  8.94879068e-02  5.54443983e-02\n",
            "  7.01162686e-02  8.44953161e-02  7.95212314e-02  4.77696254e-02\n",
            "  2.60790649e-02  1.91831547e-02 -1.07913810e-02 -1.46438642e-02\n",
            " -2.08284380e-02 -1.18590589e-02 -1.56481968e-02 -7.33240326e-03\n",
            " -2.27941678e-04  4.72761448e-02  3.64214822e-02  2.68292679e-02\n",
            "  3.58689182e-03  1.28062991e-02  3.49935385e-02  2.77111021e-02\n",
            "  2.43969132e-02  1.95508084e-02  4.65468863e-02  3.25042488e-02\n",
            "  6.88198679e-02  5.73112704e-02  4.82207064e-02  5.59151663e-02\n",
            "  7.06439769e-02  5.96375239e-02  6.77143506e-02  9.27851304e-02\n",
            "  1.08491412e-01  1.13112363e-01  1.55326230e-01  1.75255918e-01\n",
            "  2.03950700e-01  1.91999130e-01  1.80035926e-01  1.80725083e-01\n",
            "  1.74491171e-01  1.56888100e-01  1.53246926e-01  1.69692645e-01\n",
            "  1.70978822e-01  1.59361160e-01  1.34643972e-01  1.38174054e-01\n",
            "  1.47693257e-01  7.44938840e-02  2.50358105e-02  2.95329549e-02\n",
            "  3.90887920e-02  1.87085932e-02  2.86431301e-02  3.90087779e-02\n",
            "  8.50280270e-02  8.60879523e-02  8.51519439e-02  1.29678897e-01\n",
            "  1.75550328e-01  1.47102991e-01  1.99846499e-01  1.30103751e-01\n",
            "  1.12123856e-01  1.73162892e-01  1.78167128e-01  2.00137893e-01\n",
            "  2.08968041e-01  2.06703686e-01  2.35234233e-01  2.33962562e-01\n",
            "  2.24606260e-01  2.33638127e-01  1.80255497e-01  1.44156363e-01\n",
            "  2.06035537e-01  1.84443621e-01  1.25448873e-01  1.74031948e-01\n",
            "  1.46534061e-01  1.74703391e-01  2.07733304e-01  2.69525517e-01\n",
            "  2.34294696e-01  2.33978240e-01  2.15770458e-01  1.40797418e-01\n",
            "  1.17541242e-01  2.65784639e-02  5.69011680e-02  1.62090032e-04\n",
            "  6.99484003e-02  8.37270739e-02  1.41606054e-01  1.61240859e-01\n",
            "  1.47960995e-01  1.29523520e-01  5.15692855e-02  2.98491972e-02\n",
            "  4.23250385e-02  3.75092510e-02  6.37433544e-02  1.04842072e-01\n",
            "  1.24167721e-01  1.23895389e-01  1.70579234e-01  2.07868224e-01\n",
            "  2.50282794e-01  2.24894695e-01  2.02214216e-01  1.90839289e-01\n",
            "  1.69782557e-01  1.52325091e-01  1.49828728e-01  1.65718641e-01\n",
            "  1.53704627e-01  1.77898369e-01  1.90646863e-01  1.96778402e-01\n",
            "  2.01085804e-01  2.18386822e-01  2.21738054e-01  2.08137585e-01\n",
            "  1.91440823e-01  2.29682366e-01  2.41689903e-01  2.34873716e-01\n",
            "  2.62567016e-01  2.54500842e-01  2.49629611e-01  2.30947082e-01\n",
            "  2.44522470e-01  2.47755006e-01  2.30492535e-01  2.00148852e-01\n",
            "  1.73676189e-01  1.59237847e-01  1.72181835e-01  1.71505356e-01\n",
            "  1.77202445e-01  1.86867986e-01  2.06652799e-01  1.98880615e-01\n",
            "  2.27729792e-01  2.42211597e-01  2.23582917e-01  2.07646403e-01\n",
            "  1.91449392e-01  1.93679895e-01  2.01483375e-01  2.15054734e-01\n",
            "  2.11706410e-01  2.09465476e-01  2.33305687e-01  2.86454391e-01\n",
            "  3.32302759e-01  4.00594494e-01  4.25530690e-01  4.39218020e-01\n",
            "  4.16292846e-01  4.01870541e-01  4.13587867e-01  4.14256534e-01\n",
            "  4.36627348e-01  4.57420842e-01  4.55743833e-01  4.87131742e-01\n",
            "  4.52440589e-01  3.97131546e-01  3.59500994e-01  2.95254488e-01\n",
            "  2.68368818e-01  2.78895653e-01  2.51257425e-01  2.75536861e-01\n",
            "  2.85247883e-01  2.68010762e-01  2.95349262e-01  2.98314987e-01\n",
            "  3.34761862e-01  3.51037651e-01  3.48805433e-01  3.21107893e-01\n",
            "  3.03967078e-01  2.70592088e-01  2.82979375e-01  2.83698798e-01\n",
            "  3.23415843e-01  3.17116872e-01  3.16996941e-01  3.80471714e-01\n",
            "  3.97063362e-01  3.88740134e-01  3.85739228e-01  4.18541946e-01\n",
            "  3.62439246e-01  3.90420906e-01  3.66763030e-01  3.89326875e-01\n",
            "  3.81989695e-01  3.83173850e-01  3.56399106e-01  3.95777596e-01\n",
            "  4.28593869e-01  4.12342590e-01  4.44309715e-01  4.18116161e-01\n",
            "  3.64275677e-01  4.00242587e-01  3.83496607e-01  4.33806359e-01\n",
            "  4.77477197e-01  4.61296358e-01  4.50605904e-01  4.59280286e-01\n",
            "  4.93417117e-01  5.04428505e-01  4.37323592e-01  4.57184906e-01\n",
            "  4.55116223e-01  4.65737807e-01  4.71445282e-01  5.15146107e-01\n",
            "  5.13497077e-01  4.96290588e-01  4.61040239e-01  4.38914576e-01\n",
            "  4.25011368e-01  4.13186814e-01  4.24878858e-01  4.28674284e-01\n",
            "  4.40497542e-01  3.66551769e-01  4.30983246e-01  4.37597265e-01\n",
            "  4.27600200e-01  4.31720425e-01  4.12042066e-01  4.47423755e-01\n",
            "  4.55456319e-01  4.34123847e-01  4.20408026e-01  4.38017082e-01\n",
            "  4.34830434e-01  4.34215262e-01  4.47761810e-01  4.57786708e-01\n",
            "  4.09501588e-01  4.59063018e-01  4.75094187e-01  4.54861655e-01\n",
            "  4.67833325e-01  4.46921104e-01  4.48023119e-01  4.34902165e-01\n",
            "  4.02983845e-01  3.81305179e-01  3.62622982e-01  3.66835721e-01\n",
            "  3.85099239e-01  3.88892783e-01  3.76861857e-01  3.81562238e-01\n",
            "  4.32890858e-01  4.59216804e-01  4.57267119e-01  4.46051415e-01\n",
            "  4.49177481e-01  4.50792454e-01  4.65232581e-01  4.50589736e-01\n",
            "  4.56106087e-01  4.31841186e-01  4.15509284e-01  4.17167580e-01\n",
            "  4.32859627e-01  4.08033802e-01  4.06771918e-01  3.83572294e-01\n",
            "  3.26800290e-01  3.27091378e-01  3.21712923e-01  3.28225371e-01\n",
            "  3.45358869e-01  3.27153866e-01  3.13079463e-01  3.64948978e-01\n",
            "  4.05945640e-01  4.28928988e-01  4.17846914e-01  3.90402145e-01\n",
            "  3.57667725e-01  3.41225754e-01  3.55571086e-01  3.57407415e-01]\n"
          ]
        }
      ]
    },
    {
      "cell_type": "code",
      "source": [
        "from sklearn import metrics\n",
        "meanAbErr = metrics.mean_absolute_error(y_test, y_pred_mlr)\n",
        "meanSqErr = metrics.mean_squared_error(y_test, y_pred_mlr)\n",
        "rootMeanSqErr = np.sqrt(metrics.mean_squared_error(y_test, y_pred_mlr))\n",
        "print('R squared: {:.2f}'.format(mlr.score(x_test,y_test)*100))\n",
        "print('Mean Absolute Error:', meanAbErr)\n",
        "print('Mean Square Error:', meanSqErr)\n",
        "print('Root Mean Square Error:', rootMeanSqErr)"
      ],
      "metadata": {
        "colab": {
          "base_uri": "https://localhost:8080/"
        },
        "id": "jGcTiXFBmR0v",
        "outputId": "15718e1d-c9e5-4ddc-a2ed-8c3919118618"
      },
      "execution_count": null,
      "outputs": [
        {
          "output_type": "stream",
          "name": "stdout",
          "text": [
            "R squared: 74.17\n",
            "Mean Absolute Error: 0.07084511722057785\n",
            "Mean Square Error: 0.008257034050279607\n",
            "Root Mean Square Error: 0.09086822354530547\n"
          ]
        }
      ]
    },
    {
      "cell_type": "code",
      "source": [
        "list1= x_train['N2O']\n",
        "list2=x_train['MEI']"
      ],
      "metadata": {
        "id": "6zd2aqparwg2"
      },
      "execution_count": null,
      "outputs": []
    },
    {
      "cell_type": "code",
      "source": [
        "from scipy.stats import pearsonr\n",
        "corr,_ = pearsonr(list1,list2)\n",
        "print(\"Pearson correlation:%.3f\",corr)"
      ],
      "metadata": {
        "colab": {
          "base_uri": "https://localhost:8080/"
        },
        "id": "Pm4jRoDhFl4F",
        "outputId": "f1707c0b-1c0d-445c-a480-e3451e4bfe90"
      },
      "execution_count": null,
      "outputs": [
        {
          "output_type": "stream",
          "name": "stdout",
          "text": [
            "Pearson correlation:%.3f -0.16453233696402814\n"
          ]
        }
      ]
    },
    {
      "cell_type": "code",
      "source": [
        "list2=x_train['CO2']\n",
        "corr,_ = pearsonr(list1,list2)\n",
        "print(\"Pearson correlation:%.3f\",corr)"
      ],
      "metadata": {
        "colab": {
          "base_uri": "https://localhost:8080/"
        },
        "id": "rlwDlZmuIHPN",
        "outputId": "54854be6-33a9-4295-db1d-7add042d4c31"
      },
      "execution_count": null,
      "outputs": [
        {
          "output_type": "stream",
          "name": "stdout",
          "text": [
            "Pearson correlation:%.3f 0.9819616918508696\n"
          ]
        }
      ]
    },
    {
      "cell_type": "code",
      "source": [
        "list2=x_train['CH4']\n",
        "corr,_ = pearsonr(list1,list2)\n",
        "print(\"Pearson correlation:%.3f\",corr)"
      ],
      "metadata": {
        "colab": {
          "base_uri": "https://localhost:8080/"
        },
        "id": "qSWS_33FIYS_",
        "outputId": "be7fd8f5-d77c-4235-99a7-6cf36cf31fd9"
      },
      "execution_count": null,
      "outputs": [
        {
          "output_type": "stream",
          "name": "stdout",
          "text": [
            "Pearson correlation:%.3f 0.8925014007104595\n"
          ]
        }
      ]
    },
    {
      "cell_type": "code",
      "source": [
        "list2=x_train['CFC-11']\n",
        "corr,_ = pearsonr(list1,list2)\n",
        "print(\"Pearson correlation:%.3f\",corr)"
      ],
      "metadata": {
        "colab": {
          "base_uri": "https://localhost:8080/"
        },
        "id": "zGwMF5aeIdeT",
        "outputId": "d6424a50-e739-4ec4-8d0f-6924969b5029"
      },
      "execution_count": null,
      "outputs": [
        {
          "output_type": "stream",
          "name": "stdout",
          "text": [
            "Pearson correlation:%.3f 0.4003591736676579\n"
          ]
        }
      ]
    },
    {
      "cell_type": "code",
      "source": [
        "list2=x_train['CFC-12']\n",
        "corr,_ = pearsonr(list1,list2)\n",
        "print(\"Pearson correlation:%.3f\",corr)"
      ],
      "metadata": {
        "colab": {
          "base_uri": "https://localhost:8080/"
        },
        "id": "dVa07Gh8Iozp",
        "outputId": "10fe96ae-24ef-428a-c9f8-6b5823c21efe"
      },
      "execution_count": null,
      "outputs": [
        {
          "output_type": "stream",
          "name": "stdout",
          "text": [
            "Pearson correlation:%.3f 0.8347702244204951\n"
          ]
        }
      ]
    },
    {
      "cell_type": "code",
      "source": [
        "list2=x_train['TSI']\n",
        "corr,_ = pearsonr(list1,list2)\n",
        "print(\"Pearson correlation:%.3f\",corr)"
      ],
      "metadata": {
        "colab": {
          "base_uri": "https://localhost:8080/"
        },
        "id": "MBRl2hDcIsex",
        "outputId": "cba146ea-14d7-4375-b588-a9dbdb271513"
      },
      "execution_count": null,
      "outputs": [
        {
          "output_type": "stream",
          "name": "stdout",
          "text": [
            "Pearson correlation:%.3f -0.011718333272709278\n"
          ]
        }
      ]
    },
    {
      "cell_type": "code",
      "source": [
        "list2=x_train['Aerosols']\n",
        "corr,_ = pearsonr(list1,list2)\n",
        "print(\"Pearson correlation:%.3f\",corr)"
      ],
      "metadata": {
        "colab": {
          "base_uri": "https://localhost:8080/"
        },
        "id": "vM9vejwtIwW1",
        "outputId": "80403567-28f4-4cda-ecf3-3f7e4c8cf81d"
      },
      "execution_count": null,
      "outputs": [
        {
          "output_type": "stream",
          "name": "stdout",
          "text": [
            "Pearson correlation:%.3f -0.35621517043995765\n"
          ]
        }
      ]
    },
    {
      "cell_type": "markdown",
      "source": [
        "// N2O is highly correlated with CO2,CH4,CFC-12"
      ],
      "metadata": {
        "id": "7cL3d4JxZcWL"
      }
    },
    {
      "cell_type": "code",
      "source": [
        "list3=x_train['CFC-11']\n",
        "list2=x_train['MEI']\n",
        "corr,_ = pearsonr(list3,list2)\n",
        "print(\"Pearson correlation:%.3f\",corr)"
      ],
      "metadata": {
        "colab": {
          "base_uri": "https://localhost:8080/"
        },
        "id": "dqfLovZwI3e2",
        "outputId": "f378b69c-3d7d-44b7-d4f1-f18c45858f6b"
      },
      "execution_count": null,
      "outputs": [
        {
          "output_type": "stream",
          "name": "stdout",
          "text": [
            "Pearson correlation:%.3f 0.08058663520943482\n"
          ]
        }
      ]
    },
    {
      "cell_type": "code",
      "source": [
        "list3=x_train['CFC-11']\n",
        "list2=x_train['CO2']\n",
        "corr,_ = pearsonr(list3,list2)\n",
        "print(\"Pearson correlation:%.3f\",corr)"
      ],
      "metadata": {
        "colab": {
          "base_uri": "https://localhost:8080/"
        },
        "id": "1uJEZL5aJRsc",
        "outputId": "1011525c-1605-43f0-fa40-88138e74f13a"
      },
      "execution_count": null,
      "outputs": [
        {
          "output_type": "stream",
          "name": "stdout",
          "text": [
            "Pearson correlation:%.3f 0.3808554448889165\n"
          ]
        }
      ]
    },
    {
      "cell_type": "code",
      "source": [
        "list3=x_train['CFC-11']\n",
        "list2=x_train['CH4']\n",
        "corr,_ = pearsonr(list3,list2)\n",
        "print(\"Pearson correlation:%.3f\",corr)"
      ],
      "metadata": {
        "colab": {
          "base_uri": "https://localhost:8080/"
        },
        "id": "e8qjiGxzJbJG",
        "outputId": "d29af10b-8144-459c-8b8a-ab64ae1dec9b"
      },
      "execution_count": null,
      "outputs": [
        {
          "output_type": "stream",
          "name": "stdout",
          "text": [
            "Pearson correlation:%.3f 0.7099609994341147\n"
          ]
        }
      ]
    },
    {
      "cell_type": "code",
      "source": [
        "list3=x_train['CFC-11']\n",
        "list2=x_train['N2O']\n",
        "corr,_ = pearsonr(list3,list2)\n",
        "print(\"Pearson correlation:%.3f\",corr)"
      ],
      "metadata": {
        "colab": {
          "base_uri": "https://localhost:8080/"
        },
        "id": "Rvf-XFRkJeV3",
        "outputId": "76534800-0412-48cc-e4ee-731122de3a67"
      },
      "execution_count": null,
      "outputs": [
        {
          "output_type": "stream",
          "name": "stdout",
          "text": [
            "Pearson correlation:%.3f 0.4003591736676579\n"
          ]
        }
      ]
    },
    {
      "cell_type": "code",
      "source": [
        "list3=x_train['CFC-11']\n",
        "list2=x_train['CFC-12']\n",
        "corr,_ = pearsonr(list3,list2)\n",
        "print(\"Pearson correlation:%.3f\",corr)\n"
      ],
      "metadata": {
        "colab": {
          "base_uri": "https://localhost:8080/"
        },
        "id": "7TU-uBTgJlHW",
        "outputId": "9e139cdc-bed9-496a-fcbe-faa6347ad712"
      },
      "execution_count": null,
      "outputs": [
        {
          "output_type": "stream",
          "name": "stdout",
          "text": [
            "Pearson correlation:%.3f 0.8288616680833807\n"
          ]
        }
      ]
    },
    {
      "cell_type": "code",
      "source": [
        "list3=x_train['CFC-11']\n",
        "list2=x_train['TSI']\n",
        "corr,_ = pearsonr(list3,list2)\n",
        "print(\"Pearson correlation:%.3f\",corr)"
      ],
      "metadata": {
        "colab": {
          "base_uri": "https://localhost:8080/"
        },
        "id": "y9sXCEK1JuON",
        "outputId": "c9af71c5-9605-4360-bbde-69e226e86a6e"
      },
      "execution_count": null,
      "outputs": [
        {
          "output_type": "stream",
          "name": "stdout",
          "text": [
            "Pearson correlation:%.3f 0.2641208315580211\n"
          ]
        }
      ]
    },
    {
      "cell_type": "code",
      "source": [
        "list3=x_train['CFC-11']\n",
        "list2=x_train['Aerosols']\n",
        "corr,_ = pearsonr(list3,list2)\n",
        "print(\"Pearson correlation:%.3f\",corr)"
      ],
      "metadata": {
        "colab": {
          "base_uri": "https://localhost:8080/"
        },
        "id": "-eqivMz9Jua7",
        "outputId": "6e7a26ff-23fa-4c43-ccd2-f8874938d4ab"
      },
      "execution_count": null,
      "outputs": [
        {
          "output_type": "stream",
          "name": "stdout",
          "text": [
            "Pearson correlation:%.3f -0.05243447495577018\n"
          ]
        }
      ]
    },
    {
      "cell_type": "markdown",
      "source": [
        "// CFC-11 is highly correlated with CFC-12 and CH4"
      ],
      "metadata": {
        "id": "yWcPq8fiaRFc"
      }
    },
    {
      "cell_type": "code",
      "source": [
        "x1 = data[['MEI','N2O','TSI','Aerosols']]\n",
        "y1 = data['Temp']"
      ],
      "metadata": {
        "id": "jkjY34vPXVpc"
      },
      "execution_count": null,
      "outputs": []
    },
    {
      "cell_type": "code",
      "source": [
        "from sklearn.linear_model import LinearRegression\n",
        "x1_train, x1_test, y1_train, y1_test = train_test_split(x1, y1, test_size = 0.2)"
      ],
      "metadata": {
        "id": "Omgw5xxwYA1F"
      },
      "execution_count": null,
      "outputs": []
    },
    {
      "cell_type": "code",
      "source": [
        "mlr1 = LinearRegression()  \n",
        "mlr1.fit(x1_train, y1_train)\n",
        "mlr3=mlr1.fit"
      ],
      "metadata": {
        "id": "3YXdHhKjYbnC"
      },
      "execution_count": null,
      "outputs": []
    },
    {
      "cell_type": "code",
      "source": [
        "print(\"Intercept: \", mlr1.intercept_)\n",
        "print(\"Coefficients:\")\n",
        "list(zip(x1, mlr1.coef_))"
      ],
      "metadata": {
        "colab": {
          "base_uri": "https://localhost:8080/"
        },
        "id": "7TT-aeJdYmH6",
        "outputId": "9e6a6e17-4b7a-49bf-d526-06fcc1f2681b"
      },
      "execution_count": null,
      "outputs": [
        {
          "output_type": "stream",
          "name": "stdout",
          "text": [
            "Intercept:  -140.32614559406022\n",
            "Coefficients:\n"
          ]
        },
        {
          "output_type": "execute_result",
          "data": {
            "text/plain": [
              "[('MEI', 0.06947802883597316),\n",
              " ('N2O', 0.024913633145443252),\n",
              " ('TSI', 0.0972193683434122),\n",
              " ('Aerosols', -1.757370212995688)]"
            ]
          },
          "metadata": {},
          "execution_count": 116
        }
      ]
    },
    {
      "cell_type": "code",
      "source": [
        "y1_pred_mlr1= mlr1.predict(x1_test)\n",
        "print(\"Prediction for test set: {}\".format(y1_pred_mlr1))"
      ],
      "metadata": {
        "colab": {
          "base_uri": "https://localhost:8080/"
        },
        "id": "i3sYteasYwb7",
        "outputId": "d5a38bfc-b2bf-4573-f855-5f44050bc8d7"
      },
      "execution_count": null,
      "outputs": [
        {
          "output_type": "stream",
          "name": "stdout",
          "text": [
            "Prediction for test set: [ 0.18854756  0.15080997  0.4884114   0.45361387  0.07792333  0.16891283\n",
            "  0.49202271  0.4925486   0.06435375  0.19641667  0.45463958  0.37644201\n",
            "  0.37979433  0.20366866  0.18550798  0.19405651  0.4179102   0.40651574\n",
            "  0.25716689  0.36290208  0.42882809  0.04800214 -0.03332151  0.18619676\n",
            "  0.43664195  0.46069125  0.03279042  0.46211275  0.52658485  0.25179026\n",
            "  0.07769218  0.01464889  0.2992394   0.44718674  0.17633583  0.2140751\n",
            "  0.27178834  0.25819726  0.18116891  0.38361841  0.12812483 -0.04383914\n",
            "  0.38348695  0.17651168  0.40514441  0.35159826  0.50823929  0.46496139\n",
            " -0.00171195  0.17543089  0.42180509  0.44443079  0.43609548  0.36013873\n",
            "  0.29384225  0.15068674  0.20341405  0.39677562  0.32615015  0.38286882\n",
            "  0.35289902  0.17870506]\n"
          ]
        }
      ]
    },
    {
      "cell_type": "code",
      "source": [
        "from sklearn import metrics\n",
        "meanAbErr = metrics.mean_absolute_error(y1_test, y1_pred_mlr1)\n",
        "meanSqErr = metrics.mean_squared_error(y1_test, y1_pred_mlr1)\n",
        "rootMeanSqErr = np.sqrt(metrics.mean_squared_error(y1_test, y1_pred_mlr1))\n",
        "print('R squared: {:.2f}'.format(mlr1.score(x1_test,y1_test)*100))\n",
        "print('Mean Absolute Error:', meanAbErr)\n",
        "print('Mean Square Error:', meanSqErr)\n",
        "print('Root Mean Square Error:', rootMeanSqErr)"
      ],
      "metadata": {
        "colab": {
          "base_uri": "https://localhost:8080/"
        },
        "id": "xYa9XmobY-T3",
        "outputId": "2ba15856-6486-486a-a59f-0e638877cfb5"
      },
      "execution_count": null,
      "outputs": [
        {
          "output_type": "stream",
          "name": "stdout",
          "text": [
            "R squared: 57.87\n",
            "Mean Absolute Error: 0.07684733345440878\n",
            "Mean Square Error: 0.010841274915583054\n",
            "Root Mean Square Error: 0.10412144311131619\n"
          ]
        }
      ]
    },
    {
      "cell_type": "code",
      "source": [
        "import statsmodels.api as sm\n",
        "\n",
        "# Adding a constant to get an intercept\n",
        "x1_train_sm = sm.add_constant(x1_train)\n",
        "lr=sm.OLS(y1_train,x1_train_sm).fit()\n",
        "lr.summary()"
      ],
      "metadata": {
        "colab": {
          "base_uri": "https://localhost:8080/",
          "height": 605
        },
        "id": "Me2zrOx4r06c",
        "outputId": "8b480537-936a-41d6-a8a2-ff6da5b4717c"
      },
      "execution_count": null,
      "outputs": [
        {
          "output_type": "stream",
          "name": "stderr",
          "text": [
            "/usr/local/lib/python3.7/dist-packages/statsmodels/tsa/tsatools.py:117: FutureWarning: In a future version of pandas all arguments of concat except for the argument 'objs' will be keyword-only\n",
            "  x = pd.concat(x[::order], 1)\n"
          ]
        },
        {
          "output_type": "execute_result",
          "data": {
            "text/plain": [
              "<class 'statsmodels.iolib.summary.Summary'>\n",
              "\"\"\"\n",
              "                            OLS Regression Results                            \n",
              "==============================================================================\n",
              "Dep. Variable:                   Temp   R-squared:                       0.738\n",
              "Model:                            OLS   Adj. R-squared:                  0.733\n",
              "Method:                 Least Squares   F-statistic:                     169.5\n",
              "Date:                Tue, 05 Apr 2022   Prob (F-statistic):           7.96e-69\n",
              "Time:                        10:05:05   Log-Likelihood:                 234.69\n",
              "No. Observations:                 246   AIC:                            -459.4\n",
              "Df Residuals:                     241   BIC:                            -441.8\n",
              "Df Model:                           4                                         \n",
              "Covariance Type:            nonrobust                                         \n",
              "==============================================================================\n",
              "                 coef    std err          t      P>|t|      [0.025      0.975]\n",
              "------------------------------------------------------------------------------\n",
              "const       -140.3261     20.424     -6.871      0.000    -180.558    -100.094\n",
              "MEI            0.0695      0.007     10.194      0.000       0.056       0.083\n",
              "N2O            0.0249      0.001     20.230      0.000       0.022       0.027\n",
              "TSI            0.0972      0.015      6.495      0.000       0.068       0.127\n",
              "Aerosols      -1.7574      0.221     -7.943      0.000      -2.193      -1.322\n",
              "==============================================================================\n",
              "Omnibus:                        6.532   Durbin-Watson:                   1.715\n",
              "Prob(Omnibus):                  0.038   Jarque-Bera (JB):               10.251\n",
              "Skew:                           0.053   Prob(JB):                      0.00594\n",
              "Kurtosis:                       3.994   Cond. No.                     4.77e+06\n",
              "==============================================================================\n",
              "\n",
              "Warnings:\n",
              "[1] Standard Errors assume that the covariance matrix of the errors is correctly specified.\n",
              "[2] The condition number is large, 4.77e+06. This might indicate that there are\n",
              "strong multicollinearity or other numerical problems.\n",
              "\"\"\""
            ],
            "text/html": [
              "<table class=\"simpletable\">\n",
              "<caption>OLS Regression Results</caption>\n",
              "<tr>\n",
              "  <th>Dep. Variable:</th>          <td>Temp</td>       <th>  R-squared:         </th> <td>   0.738</td>\n",
              "</tr>\n",
              "<tr>\n",
              "  <th>Model:</th>                   <td>OLS</td>       <th>  Adj. R-squared:    </th> <td>   0.733</td>\n",
              "</tr>\n",
              "<tr>\n",
              "  <th>Method:</th>             <td>Least Squares</td>  <th>  F-statistic:       </th> <td>   169.5</td>\n",
              "</tr>\n",
              "<tr>\n",
              "  <th>Date:</th>             <td>Tue, 05 Apr 2022</td> <th>  Prob (F-statistic):</th> <td>7.96e-69</td>\n",
              "</tr>\n",
              "<tr>\n",
              "  <th>Time:</th>                 <td>10:05:05</td>     <th>  Log-Likelihood:    </th> <td>  234.69</td>\n",
              "</tr>\n",
              "<tr>\n",
              "  <th>No. Observations:</th>      <td>   246</td>      <th>  AIC:               </th> <td>  -459.4</td>\n",
              "</tr>\n",
              "<tr>\n",
              "  <th>Df Residuals:</th>          <td>   241</td>      <th>  BIC:               </th> <td>  -441.8</td>\n",
              "</tr>\n",
              "<tr>\n",
              "  <th>Df Model:</th>              <td>     4</td>      <th>                     </th>     <td> </td>   \n",
              "</tr>\n",
              "<tr>\n",
              "  <th>Covariance Type:</th>      <td>nonrobust</td>    <th>                     </th>     <td> </td>   \n",
              "</tr>\n",
              "</table>\n",
              "<table class=\"simpletable\">\n",
              "<tr>\n",
              "      <td></td>        <th>coef</th>     <th>std err</th>      <th>t</th>      <th>P>|t|</th>  <th>[0.025</th>    <th>0.975]</th>  \n",
              "</tr>\n",
              "<tr>\n",
              "  <th>const</th>    <td> -140.3261</td> <td>   20.424</td> <td>   -6.871</td> <td> 0.000</td> <td> -180.558</td> <td> -100.094</td>\n",
              "</tr>\n",
              "<tr>\n",
              "  <th>MEI</th>      <td>    0.0695</td> <td>    0.007</td> <td>   10.194</td> <td> 0.000</td> <td>    0.056</td> <td>    0.083</td>\n",
              "</tr>\n",
              "<tr>\n",
              "  <th>N2O</th>      <td>    0.0249</td> <td>    0.001</td> <td>   20.230</td> <td> 0.000</td> <td>    0.022</td> <td>    0.027</td>\n",
              "</tr>\n",
              "<tr>\n",
              "  <th>TSI</th>      <td>    0.0972</td> <td>    0.015</td> <td>    6.495</td> <td> 0.000</td> <td>    0.068</td> <td>    0.127</td>\n",
              "</tr>\n",
              "<tr>\n",
              "  <th>Aerosols</th> <td>   -1.7574</td> <td>    0.221</td> <td>   -7.943</td> <td> 0.000</td> <td>   -2.193</td> <td>   -1.322</td>\n",
              "</tr>\n",
              "</table>\n",
              "<table class=\"simpletable\">\n",
              "<tr>\n",
              "  <th>Omnibus:</th>       <td> 6.532</td> <th>  Durbin-Watson:     </th> <td>   1.715</td>\n",
              "</tr>\n",
              "<tr>\n",
              "  <th>Prob(Omnibus):</th> <td> 0.038</td> <th>  Jarque-Bera (JB):  </th> <td>  10.251</td>\n",
              "</tr>\n",
              "<tr>\n",
              "  <th>Skew:</th>          <td> 0.053</td> <th>  Prob(JB):          </th> <td> 0.00594</td>\n",
              "</tr>\n",
              "<tr>\n",
              "  <th>Kurtosis:</th>      <td> 3.994</td> <th>  Cond. No.          </th> <td>4.77e+06</td>\n",
              "</tr>\n",
              "</table><br/><br/>Warnings:<br/>[1] Standard Errors assume that the covariance matrix of the errors is correctly specified.<br/>[2] The condition number is large, 4.77e+06. This might indicate that there are<br/>strong multicollinearity or other numerical problems."
            ]
          },
          "metadata": {},
          "execution_count": 130
        }
      ]
    },
    {
      "cell_type": "code",
      "source": [
        "import statsmodels.api as sm\n",
        "\n",
        "# Adding a constant to get an intercept\n",
        "x_train_sm = sm.add_constant(x_train)\n",
        "lr=sm.OLS(y_train,x_train_sm).fit()\n",
        "lr.summary()\n"
      ],
      "metadata": {
        "colab": {
          "base_uri": "https://localhost:8080/",
          "height": 691
        },
        "id": "s3tHvLrklDt8",
        "outputId": "51e9a5e6-f404-43b1-9f8c-4a82c295b274"
      },
      "execution_count": null,
      "outputs": [
        {
          "output_type": "stream",
          "name": "stderr",
          "text": [
            "/usr/local/lib/python3.7/dist-packages/statsmodels/tsa/tsatools.py:117: FutureWarning: In a future version of pandas all arguments of concat except for the argument 'objs' will be keyword-only\n",
            "  x = pd.concat(x[::order], 1)\n"
          ]
        },
        {
          "output_type": "execute_result",
          "data": {
            "text/plain": [
              "<class 'statsmodels.iolib.summary.Summary'>\n",
              "\"\"\"\n",
              "                            OLS Regression Results                            \n",
              "==============================================================================\n",
              "Dep. Variable:                   Temp   R-squared:                       0.726\n",
              "Model:                            OLS   Adj. R-squared:                  0.717\n",
              "Method:                 Least Squares   F-statistic:                     78.61\n",
              "Date:                Tue, 05 Apr 2022   Prob (F-statistic):           2.35e-62\n",
              "Time:                        09:54:08   Log-Likelihood:                 239.41\n",
              "No. Observations:                 246   AIC:                            -460.8\n",
              "Df Residuals:                     237   BIC:                            -429.3\n",
              "Df Model:                           8                                         \n",
              "Covariance Type:            nonrobust                                         \n",
              "==============================================================================\n",
              "                 coef    std err          t      P>|t|      [0.025      0.975]\n",
              "------------------------------------------------------------------------------\n",
              "const       -121.9660     21.298     -5.727      0.000    -163.924     -80.008\n",
              "MEI            0.0600      0.007      8.215      0.000       0.046       0.074\n",
              "CO2            0.0051      0.003      2.023      0.044       0.000       0.010\n",
              "CH4           -0.0002      0.001     -0.404      0.686      -0.001       0.001\n",
              "N2O           -0.0129      0.009     -1.416      0.158      -0.031       0.005\n",
              "CFC-11        -0.0068      0.002     -4.167      0.000      -0.010      -0.004\n",
              "CFC-12         0.0040      0.001      4.096      0.000       0.002       0.006\n",
              "TSI            0.0912      0.016      5.841      0.000       0.060       0.122\n",
              "Aerosols      -1.5270      0.234     -6.522      0.000      -1.988      -1.066\n",
              "==============================================================================\n",
              "Omnibus:                        5.909   Durbin-Watson:                   1.888\n",
              "Prob(Omnibus):                  0.052   Jarque-Bera (JB):                8.243\n",
              "Skew:                           0.114   Prob(JB):                       0.0162\n",
              "Kurtosis:                       3.868   Cond. No.                     8.38e+06\n",
              "==============================================================================\n",
              "\n",
              "Warnings:\n",
              "[1] Standard Errors assume that the covariance matrix of the errors is correctly specified.\n",
              "[2] The condition number is large, 8.38e+06. This might indicate that there are\n",
              "strong multicollinearity or other numerical problems.\n",
              "\"\"\""
            ],
            "text/html": [
              "<table class=\"simpletable\">\n",
              "<caption>OLS Regression Results</caption>\n",
              "<tr>\n",
              "  <th>Dep. Variable:</th>          <td>Temp</td>       <th>  R-squared:         </th> <td>   0.726</td>\n",
              "</tr>\n",
              "<tr>\n",
              "  <th>Model:</th>                   <td>OLS</td>       <th>  Adj. R-squared:    </th> <td>   0.717</td>\n",
              "</tr>\n",
              "<tr>\n",
              "  <th>Method:</th>             <td>Least Squares</td>  <th>  F-statistic:       </th> <td>   78.61</td>\n",
              "</tr>\n",
              "<tr>\n",
              "  <th>Date:</th>             <td>Tue, 05 Apr 2022</td> <th>  Prob (F-statistic):</th> <td>2.35e-62</td>\n",
              "</tr>\n",
              "<tr>\n",
              "  <th>Time:</th>                 <td>09:54:08</td>     <th>  Log-Likelihood:    </th> <td>  239.41</td>\n",
              "</tr>\n",
              "<tr>\n",
              "  <th>No. Observations:</th>      <td>   246</td>      <th>  AIC:               </th> <td>  -460.8</td>\n",
              "</tr>\n",
              "<tr>\n",
              "  <th>Df Residuals:</th>          <td>   237</td>      <th>  BIC:               </th> <td>  -429.3</td>\n",
              "</tr>\n",
              "<tr>\n",
              "  <th>Df Model:</th>              <td>     8</td>      <th>                     </th>     <td> </td>   \n",
              "</tr>\n",
              "<tr>\n",
              "  <th>Covariance Type:</th>      <td>nonrobust</td>    <th>                     </th>     <td> </td>   \n",
              "</tr>\n",
              "</table>\n",
              "<table class=\"simpletable\">\n",
              "<tr>\n",
              "      <td></td>        <th>coef</th>     <th>std err</th>      <th>t</th>      <th>P>|t|</th>  <th>[0.025</th>    <th>0.975]</th>  \n",
              "</tr>\n",
              "<tr>\n",
              "  <th>const</th>    <td> -121.9660</td> <td>   21.298</td> <td>   -5.727</td> <td> 0.000</td> <td> -163.924</td> <td>  -80.008</td>\n",
              "</tr>\n",
              "<tr>\n",
              "  <th>MEI</th>      <td>    0.0600</td> <td>    0.007</td> <td>    8.215</td> <td> 0.000</td> <td>    0.046</td> <td>    0.074</td>\n",
              "</tr>\n",
              "<tr>\n",
              "  <th>CO2</th>      <td>    0.0051</td> <td>    0.003</td> <td>    2.023</td> <td> 0.044</td> <td>    0.000</td> <td>    0.010</td>\n",
              "</tr>\n",
              "<tr>\n",
              "  <th>CH4</th>      <td>   -0.0002</td> <td>    0.001</td> <td>   -0.404</td> <td> 0.686</td> <td>   -0.001</td> <td>    0.001</td>\n",
              "</tr>\n",
              "<tr>\n",
              "  <th>N2O</th>      <td>   -0.0129</td> <td>    0.009</td> <td>   -1.416</td> <td> 0.158</td> <td>   -0.031</td> <td>    0.005</td>\n",
              "</tr>\n",
              "<tr>\n",
              "  <th>CFC-11</th>   <td>   -0.0068</td> <td>    0.002</td> <td>   -4.167</td> <td> 0.000</td> <td>   -0.010</td> <td>   -0.004</td>\n",
              "</tr>\n",
              "<tr>\n",
              "  <th>CFC-12</th>   <td>    0.0040</td> <td>    0.001</td> <td>    4.096</td> <td> 0.000</td> <td>    0.002</td> <td>    0.006</td>\n",
              "</tr>\n",
              "<tr>\n",
              "  <th>TSI</th>      <td>    0.0912</td> <td>    0.016</td> <td>    5.841</td> <td> 0.000</td> <td>    0.060</td> <td>    0.122</td>\n",
              "</tr>\n",
              "<tr>\n",
              "  <th>Aerosols</th> <td>   -1.5270</td> <td>    0.234</td> <td>   -6.522</td> <td> 0.000</td> <td>   -1.988</td> <td>   -1.066</td>\n",
              "</tr>\n",
              "</table>\n",
              "<table class=\"simpletable\">\n",
              "<tr>\n",
              "  <th>Omnibus:</th>       <td> 5.909</td> <th>  Durbin-Watson:     </th> <td>   1.888</td>\n",
              "</tr>\n",
              "<tr>\n",
              "  <th>Prob(Omnibus):</th> <td> 0.052</td> <th>  Jarque-Bera (JB):  </th> <td>   8.243</td>\n",
              "</tr>\n",
              "<tr>\n",
              "  <th>Skew:</th>          <td> 0.114</td> <th>  Prob(JB):          </th> <td>  0.0162</td>\n",
              "</tr>\n",
              "<tr>\n",
              "  <th>Kurtosis:</th>      <td> 3.868</td> <th>  Cond. No.          </th> <td>8.38e+06</td>\n",
              "</tr>\n",
              "</table><br/><br/>Warnings:<br/>[1] Standard Errors assume that the covariance matrix of the errors is correctly specified.<br/>[2] The condition number is large, 8.38e+06. This might indicate that there are<br/>strong multicollinearity or other numerical problems."
            ]
          },
          "metadata": {},
          "execution_count": 128
        }
      ]
    }
  ]
}