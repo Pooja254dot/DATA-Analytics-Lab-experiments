{
  "cells": [
    {
      "cell_type": "markdown",
      "metadata": {
        "id": "view-in-github",
        "colab_type": "text"
      },
      "source": [
        "<a href=\"https://colab.research.google.com/github/Pooja254dot/DATA-Analytics-Lab-experiments/blob/main/EXPERIMENT1A.ipynb\" target=\"_parent\"><img src=\"https://colab.research.google.com/assets/colab-badge.svg\" alt=\"Open In Colab\"/></a>"
      ]
    },
    {
      "cell_type": "code",
      "execution_count": null,
      "metadata": {
        "id": "iallOx5H62NW"
      },
      "outputs": [],
      "source": [
        "import pandas as pd\n",
        "import numpy as np\n",
        "import seaborn as sns\n",
        "import matplotlib.pyplot as plt\n",
        "%matplotlib inline\n",
        "sns.set(color_codes=True)"
      ]
    },
    {
      "cell_type": "code",
      "execution_count": null,
      "metadata": {
        "id": "_nsXKV0i7B5W"
      },
      "outputs": [],
      "source": [
        "data=pd.read_csv('/content/drive/MyDrive/acs2015_census_tract_data.csv.zip')"
      ]
    },
    {
      "cell_type": "code",
      "execution_count": null,
      "metadata": {
        "colab": {
          "base_uri": "https://localhost:8080/",
          "height": 270
        },
        "id": "aSbx14HN7HUY",
        "outputId": "7de374f6-199c-4040-b8c1-52a2538cce15"
      },
      "outputs": [
        {
          "output_type": "execute_result",
          "data": {
            "text/html": [
              "\n",
              "  <div id=\"df-eb1406cb-8f8d-4d66-b647-031fff60394e\">\n",
              "    <div class=\"colab-df-container\">\n",
              "      <div>\n",
              "<style scoped>\n",
              "    .dataframe tbody tr th:only-of-type {\n",
              "        vertical-align: middle;\n",
              "    }\n",
              "\n",
              "    .dataframe tbody tr th {\n",
              "        vertical-align: top;\n",
              "    }\n",
              "\n",
              "    .dataframe thead th {\n",
              "        text-align: right;\n",
              "    }\n",
              "</style>\n",
              "<table border=\"1\" class=\"dataframe\">\n",
              "  <thead>\n",
              "    <tr style=\"text-align: right;\">\n",
              "      <th></th>\n",
              "      <th>CensusTract</th>\n",
              "      <th>State</th>\n",
              "      <th>County</th>\n",
              "      <th>TotalPop</th>\n",
              "      <th>Men</th>\n",
              "      <th>Women</th>\n",
              "      <th>Hispanic</th>\n",
              "      <th>White</th>\n",
              "      <th>Black</th>\n",
              "      <th>Native</th>\n",
              "      <th>Asian</th>\n",
              "      <th>Pacific</th>\n",
              "      <th>Citizen</th>\n",
              "      <th>Income</th>\n",
              "      <th>IncomeErr</th>\n",
              "      <th>IncomePerCap</th>\n",
              "      <th>IncomePerCapErr</th>\n",
              "      <th>Poverty</th>\n",
              "      <th>ChildPoverty</th>\n",
              "      <th>Professional</th>\n",
              "      <th>Service</th>\n",
              "      <th>Office</th>\n",
              "      <th>Construction</th>\n",
              "      <th>Production</th>\n",
              "      <th>Drive</th>\n",
              "      <th>Carpool</th>\n",
              "      <th>Transit</th>\n",
              "      <th>Walk</th>\n",
              "      <th>OtherTransp</th>\n",
              "      <th>WorkAtHome</th>\n",
              "      <th>MeanCommute</th>\n",
              "      <th>Employed</th>\n",
              "      <th>PrivateWork</th>\n",
              "      <th>PublicWork</th>\n",
              "      <th>SelfEmployed</th>\n",
              "      <th>FamilyWork</th>\n",
              "      <th>Unemployment</th>\n",
              "    </tr>\n",
              "  </thead>\n",
              "  <tbody>\n",
              "    <tr>\n",
              "      <th>0</th>\n",
              "      <td>1001020100</td>\n",
              "      <td>Alabama</td>\n",
              "      <td>Autauga</td>\n",
              "      <td>1948</td>\n",
              "      <td>940</td>\n",
              "      <td>1008</td>\n",
              "      <td>0.9</td>\n",
              "      <td>87.4</td>\n",
              "      <td>7.7</td>\n",
              "      <td>0.3</td>\n",
              "      <td>0.6</td>\n",
              "      <td>0.0</td>\n",
              "      <td>1503</td>\n",
              "      <td>61838.0</td>\n",
              "      <td>11900.0</td>\n",
              "      <td>25713.0</td>\n",
              "      <td>4548.0</td>\n",
              "      <td>8.1</td>\n",
              "      <td>8.4</td>\n",
              "      <td>34.7</td>\n",
              "      <td>17.0</td>\n",
              "      <td>21.3</td>\n",
              "      <td>11.9</td>\n",
              "      <td>15.2</td>\n",
              "      <td>90.2</td>\n",
              "      <td>4.8</td>\n",
              "      <td>0.0</td>\n",
              "      <td>0.5</td>\n",
              "      <td>2.3</td>\n",
              "      <td>2.1</td>\n",
              "      <td>25.0</td>\n",
              "      <td>943</td>\n",
              "      <td>77.1</td>\n",
              "      <td>18.3</td>\n",
              "      <td>4.6</td>\n",
              "      <td>0.0</td>\n",
              "      <td>5.4</td>\n",
              "    </tr>\n",
              "    <tr>\n",
              "      <th>1</th>\n",
              "      <td>1001020200</td>\n",
              "      <td>Alabama</td>\n",
              "      <td>Autauga</td>\n",
              "      <td>2156</td>\n",
              "      <td>1059</td>\n",
              "      <td>1097</td>\n",
              "      <td>0.8</td>\n",
              "      <td>40.4</td>\n",
              "      <td>53.3</td>\n",
              "      <td>0.0</td>\n",
              "      <td>2.3</td>\n",
              "      <td>0.0</td>\n",
              "      <td>1662</td>\n",
              "      <td>32303.0</td>\n",
              "      <td>13538.0</td>\n",
              "      <td>18021.0</td>\n",
              "      <td>2474.0</td>\n",
              "      <td>25.5</td>\n",
              "      <td>40.3</td>\n",
              "      <td>22.3</td>\n",
              "      <td>24.7</td>\n",
              "      <td>21.5</td>\n",
              "      <td>9.4</td>\n",
              "      <td>22.0</td>\n",
              "      <td>86.3</td>\n",
              "      <td>13.1</td>\n",
              "      <td>0.0</td>\n",
              "      <td>0.0</td>\n",
              "      <td>0.7</td>\n",
              "      <td>0.0</td>\n",
              "      <td>23.4</td>\n",
              "      <td>753</td>\n",
              "      <td>77.0</td>\n",
              "      <td>16.9</td>\n",
              "      <td>6.1</td>\n",
              "      <td>0.0</td>\n",
              "      <td>13.3</td>\n",
              "    </tr>\n",
              "    <tr>\n",
              "      <th>2</th>\n",
              "      <td>1001020300</td>\n",
              "      <td>Alabama</td>\n",
              "      <td>Autauga</td>\n",
              "      <td>2968</td>\n",
              "      <td>1364</td>\n",
              "      <td>1604</td>\n",
              "      <td>0.0</td>\n",
              "      <td>74.5</td>\n",
              "      <td>18.6</td>\n",
              "      <td>0.5</td>\n",
              "      <td>1.4</td>\n",
              "      <td>0.3</td>\n",
              "      <td>2335</td>\n",
              "      <td>44922.0</td>\n",
              "      <td>5629.0</td>\n",
              "      <td>20689.0</td>\n",
              "      <td>2817.0</td>\n",
              "      <td>12.7</td>\n",
              "      <td>19.7</td>\n",
              "      <td>31.4</td>\n",
              "      <td>24.9</td>\n",
              "      <td>22.1</td>\n",
              "      <td>9.2</td>\n",
              "      <td>12.4</td>\n",
              "      <td>94.8</td>\n",
              "      <td>2.8</td>\n",
              "      <td>0.0</td>\n",
              "      <td>0.0</td>\n",
              "      <td>0.0</td>\n",
              "      <td>2.5</td>\n",
              "      <td>19.6</td>\n",
              "      <td>1373</td>\n",
              "      <td>64.1</td>\n",
              "      <td>23.6</td>\n",
              "      <td>12.3</td>\n",
              "      <td>0.0</td>\n",
              "      <td>6.2</td>\n",
              "    </tr>\n",
              "    <tr>\n",
              "      <th>3</th>\n",
              "      <td>1001020400</td>\n",
              "      <td>Alabama</td>\n",
              "      <td>Autauga</td>\n",
              "      <td>4423</td>\n",
              "      <td>2172</td>\n",
              "      <td>2251</td>\n",
              "      <td>10.5</td>\n",
              "      <td>82.8</td>\n",
              "      <td>3.7</td>\n",
              "      <td>1.6</td>\n",
              "      <td>0.0</td>\n",
              "      <td>0.0</td>\n",
              "      <td>3306</td>\n",
              "      <td>54329.0</td>\n",
              "      <td>7003.0</td>\n",
              "      <td>24125.0</td>\n",
              "      <td>2870.0</td>\n",
              "      <td>2.1</td>\n",
              "      <td>1.6</td>\n",
              "      <td>27.0</td>\n",
              "      <td>20.8</td>\n",
              "      <td>27.0</td>\n",
              "      <td>8.7</td>\n",
              "      <td>16.4</td>\n",
              "      <td>86.6</td>\n",
              "      <td>9.1</td>\n",
              "      <td>0.0</td>\n",
              "      <td>0.0</td>\n",
              "      <td>2.6</td>\n",
              "      <td>1.6</td>\n",
              "      <td>25.3</td>\n",
              "      <td>1782</td>\n",
              "      <td>75.7</td>\n",
              "      <td>21.2</td>\n",
              "      <td>3.1</td>\n",
              "      <td>0.0</td>\n",
              "      <td>10.8</td>\n",
              "    </tr>\n",
              "    <tr>\n",
              "      <th>4</th>\n",
              "      <td>1001020500</td>\n",
              "      <td>Alabama</td>\n",
              "      <td>Autauga</td>\n",
              "      <td>10763</td>\n",
              "      <td>4922</td>\n",
              "      <td>5841</td>\n",
              "      <td>0.7</td>\n",
              "      <td>68.5</td>\n",
              "      <td>24.8</td>\n",
              "      <td>0.0</td>\n",
              "      <td>3.8</td>\n",
              "      <td>0.0</td>\n",
              "      <td>7666</td>\n",
              "      <td>51965.0</td>\n",
              "      <td>6935.0</td>\n",
              "      <td>27526.0</td>\n",
              "      <td>2813.0</td>\n",
              "      <td>11.4</td>\n",
              "      <td>17.5</td>\n",
              "      <td>49.6</td>\n",
              "      <td>14.2</td>\n",
              "      <td>18.2</td>\n",
              "      <td>2.1</td>\n",
              "      <td>15.8</td>\n",
              "      <td>88.0</td>\n",
              "      <td>10.5</td>\n",
              "      <td>0.0</td>\n",
              "      <td>0.0</td>\n",
              "      <td>0.6</td>\n",
              "      <td>0.9</td>\n",
              "      <td>24.8</td>\n",
              "      <td>5037</td>\n",
              "      <td>67.1</td>\n",
              "      <td>27.6</td>\n",
              "      <td>5.3</td>\n",
              "      <td>0.0</td>\n",
              "      <td>4.2</td>\n",
              "    </tr>\n",
              "  </tbody>\n",
              "</table>\n",
              "</div>\n",
              "      <button class=\"colab-df-convert\" onclick=\"convertToInteractive('df-eb1406cb-8f8d-4d66-b647-031fff60394e')\"\n",
              "              title=\"Convert this dataframe to an interactive table.\"\n",
              "              style=\"display:none;\">\n",
              "        \n",
              "  <svg xmlns=\"http://www.w3.org/2000/svg\" height=\"24px\"viewBox=\"0 0 24 24\"\n",
              "       width=\"24px\">\n",
              "    <path d=\"M0 0h24v24H0V0z\" fill=\"none\"/>\n",
              "    <path d=\"M18.56 5.44l.94 2.06.94-2.06 2.06-.94-2.06-.94-.94-2.06-.94 2.06-2.06.94zm-11 1L8.5 8.5l.94-2.06 2.06-.94-2.06-.94L8.5 2.5l-.94 2.06-2.06.94zm10 10l.94 2.06.94-2.06 2.06-.94-2.06-.94-.94-2.06-.94 2.06-2.06.94z\"/><path d=\"M17.41 7.96l-1.37-1.37c-.4-.4-.92-.59-1.43-.59-.52 0-1.04.2-1.43.59L10.3 9.45l-7.72 7.72c-.78.78-.78 2.05 0 2.83L4 21.41c.39.39.9.59 1.41.59.51 0 1.02-.2 1.41-.59l7.78-7.78 2.81-2.81c.8-.78.8-2.07 0-2.86zM5.41 20L4 18.59l7.72-7.72 1.47 1.35L5.41 20z\"/>\n",
              "  </svg>\n",
              "      </button>\n",
              "      \n",
              "  <style>\n",
              "    .colab-df-container {\n",
              "      display:flex;\n",
              "      flex-wrap:wrap;\n",
              "      gap: 12px;\n",
              "    }\n",
              "\n",
              "    .colab-df-convert {\n",
              "      background-color: #E8F0FE;\n",
              "      border: none;\n",
              "      border-radius: 50%;\n",
              "      cursor: pointer;\n",
              "      display: none;\n",
              "      fill: #1967D2;\n",
              "      height: 32px;\n",
              "      padding: 0 0 0 0;\n",
              "      width: 32px;\n",
              "    }\n",
              "\n",
              "    .colab-df-convert:hover {\n",
              "      background-color: #E2EBFA;\n",
              "      box-shadow: 0px 1px 2px rgba(60, 64, 67, 0.3), 0px 1px 3px 1px rgba(60, 64, 67, 0.15);\n",
              "      fill: #174EA6;\n",
              "    }\n",
              "\n",
              "    [theme=dark] .colab-df-convert {\n",
              "      background-color: #3B4455;\n",
              "      fill: #D2E3FC;\n",
              "    }\n",
              "\n",
              "    [theme=dark] .colab-df-convert:hover {\n",
              "      background-color: #434B5C;\n",
              "      box-shadow: 0px 1px 3px 1px rgba(0, 0, 0, 0.15);\n",
              "      filter: drop-shadow(0px 1px 2px rgba(0, 0, 0, 0.3));\n",
              "      fill: #FFFFFF;\n",
              "    }\n",
              "  </style>\n",
              "\n",
              "      <script>\n",
              "        const buttonEl =\n",
              "          document.querySelector('#df-eb1406cb-8f8d-4d66-b647-031fff60394e button.colab-df-convert');\n",
              "        buttonEl.style.display =\n",
              "          google.colab.kernel.accessAllowed ? 'block' : 'none';\n",
              "\n",
              "        async function convertToInteractive(key) {\n",
              "          const element = document.querySelector('#df-eb1406cb-8f8d-4d66-b647-031fff60394e');\n",
              "          const dataTable =\n",
              "            await google.colab.kernel.invokeFunction('convertToInteractive',\n",
              "                                                     [key], {});\n",
              "          if (!dataTable) return;\n",
              "\n",
              "          const docLinkHtml = 'Like what you see? Visit the ' +\n",
              "            '<a target=\"_blank\" href=https://colab.research.google.com/notebooks/data_table.ipynb>data table notebook</a>'\n",
              "            + ' to learn more about interactive tables.';\n",
              "          element.innerHTML = '';\n",
              "          dataTable['output_type'] = 'display_data';\n",
              "          await google.colab.output.renderOutput(dataTable, element);\n",
              "          const docLink = document.createElement('div');\n",
              "          docLink.innerHTML = docLinkHtml;\n",
              "          element.appendChild(docLink);\n",
              "        }\n",
              "      </script>\n",
              "    </div>\n",
              "  </div>\n",
              "  "
            ],
            "text/plain": [
              "   CensusTract    State   County  ...  SelfEmployed  FamilyWork  Unemployment\n",
              "0   1001020100  Alabama  Autauga  ...           4.6         0.0           5.4\n",
              "1   1001020200  Alabama  Autauga  ...           6.1         0.0          13.3\n",
              "2   1001020300  Alabama  Autauga  ...          12.3         0.0           6.2\n",
              "3   1001020400  Alabama  Autauga  ...           3.1         0.0          10.8\n",
              "4   1001020500  Alabama  Autauga  ...           5.3         0.0           4.2\n",
              "\n",
              "[5 rows x 37 columns]"
            ]
          },
          "metadata": {},
          "execution_count": 4
        }
      ],
      "source": [
        "data.head()"
      ]
    },
    {
      "cell_type": "code",
      "execution_count": null,
      "metadata": {
        "colab": {
          "base_uri": "https://localhost:8080/"
        },
        "id": "Bt8-z9ZO7xAn",
        "outputId": "e8c3b9d7-bd1a-4af7-93d0-cf5a22716688"
      },
      "outputs": [
        {
          "data": {
            "text/plain": [
              "CensusTract          int64\n",
              "State               object\n",
              "County              object\n",
              "TotalPop             int64\n",
              "Men                  int64\n",
              "Women                int64\n",
              "Hispanic           float64\n",
              "White              float64\n",
              "Black              float64\n",
              "Native             float64\n",
              "Asian              float64\n",
              "Pacific            float64\n",
              "Citizen              int64\n",
              "Income             float64\n",
              "IncomeErr          float64\n",
              "IncomePerCap       float64\n",
              "IncomePerCapErr    float64\n",
              "Poverty            float64\n",
              "ChildPoverty       float64\n",
              "Professional       float64\n",
              "Service            float64\n",
              "Office             float64\n",
              "Construction       float64\n",
              "Production         float64\n",
              "Drive              float64\n",
              "Carpool            float64\n",
              "Transit            float64\n",
              "Walk               float64\n",
              "OtherTransp        float64\n",
              "WorkAtHome         float64\n",
              "MeanCommute        float64\n",
              "Employed             int64\n",
              "PrivateWork        float64\n",
              "PublicWork         float64\n",
              "SelfEmployed       float64\n",
              "FamilyWork         float64\n",
              "Unemployment       float64\n",
              "dtype: object"
            ]
          },
          "execution_count": 39,
          "metadata": {},
          "output_type": "execute_result"
        }
      ],
      "source": [
        "data.dtypes"
      ]
    },
    {
      "cell_type": "code",
      "execution_count": null,
      "metadata": {
        "colab": {
          "base_uri": "https://localhost:8080/"
        },
        "id": "YFqo7WkW75mX",
        "outputId": "092a77c6-025d-4cdd-b81c-d121d391a3b2"
      },
      "outputs": [
        {
          "data": {
            "text/plain": [
              "CensusTract        74001\n",
              "State              74001\n",
              "County             74001\n",
              "TotalPop           74001\n",
              "Men                74001\n",
              "Women              74001\n",
              "Hispanic           73311\n",
              "White              73311\n",
              "Black              73311\n",
              "Native             73311\n",
              "Asian              73311\n",
              "Pacific            73311\n",
              "Citizen            74001\n",
              "Income             72901\n",
              "IncomeErr          72901\n",
              "IncomePerCap       73261\n",
              "IncomePerCapErr    73261\n",
              "Poverty            73166\n",
              "ChildPoverty       72883\n",
              "Professional       73194\n",
              "Service            73194\n",
              "Office             73194\n",
              "Construction       73194\n",
              "Production         73194\n",
              "Drive              73204\n",
              "Carpool            73204\n",
              "Transit            73204\n",
              "Walk               73204\n",
              "OtherTransp        73204\n",
              "WorkAtHome         73204\n",
              "MeanCommute        73052\n",
              "Employed           74001\n",
              "PrivateWork        73194\n",
              "PublicWork         73194\n",
              "SelfEmployed       73194\n",
              "FamilyWork         73194\n",
              "Unemployment       73199\n",
              "dtype: int64"
            ]
          },
          "execution_count": 89,
          "metadata": {},
          "output_type": "execute_result"
        }
      ],
      "source": [
        "data.count()\n"
      ]
    },
    {
      "cell_type": "code",
      "execution_count": null,
      "metadata": {
        "colab": {
          "base_uri": "https://localhost:8080/"
        },
        "id": "hP5PkKdj8A7q",
        "outputId": "694b4815-2d1f-4570-fdee-29c4ed5833df"
      },
      "outputs": [
        {
          "name": "stdout",
          "output_type": "stream",
          "text": [
            "No of data samples\n",
            "74001\n",
            "No of features\n",
            "37\n"
          ]
        }
      ],
      "source": [
        "data.shape\n",
        "print(\"No of data samples\")\n",
        "print(data.shape[0])\n",
        "print(\"No of features\")\n",
        "print(data.shape[1])\n"
      ]
    },
    {
      "cell_type": "code",
      "execution_count": null,
      "metadata": {
        "colab": {
          "base_uri": "https://localhost:8080/",
          "height": 364
        },
        "id": "cy04WEiB8HF7",
        "outputId": "8a01e964-2a1b-4fcf-a0dd-45b8b99286cc"
      },
      "outputs": [
        {
          "data": {
            "text/html": [
              "\n",
              "  <div id=\"df-fd0b6568-7e2b-4a3f-9a42-17518636e2b2\">\n",
              "    <div class=\"colab-df-container\">\n",
              "      <div>\n",
              "<style scoped>\n",
              "    .dataframe tbody tr th:only-of-type {\n",
              "        vertical-align: middle;\n",
              "    }\n",
              "\n",
              "    .dataframe tbody tr th {\n",
              "        vertical-align: top;\n",
              "    }\n",
              "\n",
              "    .dataframe thead th {\n",
              "        text-align: right;\n",
              "    }\n",
              "</style>\n",
              "<table border=\"1\" class=\"dataframe\">\n",
              "  <thead>\n",
              "    <tr style=\"text-align: right;\">\n",
              "      <th></th>\n",
              "      <th>CensusTract</th>\n",
              "      <th>TotalPop</th>\n",
              "      <th>Men</th>\n",
              "      <th>Women</th>\n",
              "      <th>Hispanic</th>\n",
              "      <th>White</th>\n",
              "      <th>Black</th>\n",
              "      <th>Native</th>\n",
              "      <th>Asian</th>\n",
              "      <th>Pacific</th>\n",
              "      <th>Citizen</th>\n",
              "      <th>Income</th>\n",
              "      <th>IncomeErr</th>\n",
              "      <th>IncomePerCap</th>\n",
              "      <th>IncomePerCapErr</th>\n",
              "      <th>Poverty</th>\n",
              "      <th>ChildPoverty</th>\n",
              "      <th>Professional</th>\n",
              "      <th>Service</th>\n",
              "      <th>Office</th>\n",
              "      <th>Construction</th>\n",
              "      <th>Production</th>\n",
              "      <th>Drive</th>\n",
              "      <th>Carpool</th>\n",
              "      <th>Transit</th>\n",
              "      <th>Walk</th>\n",
              "      <th>OtherTransp</th>\n",
              "      <th>WorkAtHome</th>\n",
              "      <th>MeanCommute</th>\n",
              "      <th>Employed</th>\n",
              "      <th>PrivateWork</th>\n",
              "      <th>PublicWork</th>\n",
              "      <th>SelfEmployed</th>\n",
              "      <th>FamilyWork</th>\n",
              "      <th>Unemployment</th>\n",
              "    </tr>\n",
              "  </thead>\n",
              "  <tbody>\n",
              "    <tr>\n",
              "      <th>count</th>\n",
              "      <td>7.400100e+04</td>\n",
              "      <td>74001.000000</td>\n",
              "      <td>74001.000000</td>\n",
              "      <td>74001.000000</td>\n",
              "      <td>73311.000000</td>\n",
              "      <td>73311.000000</td>\n",
              "      <td>73311.000000</td>\n",
              "      <td>73311.000000</td>\n",
              "      <td>73311.000000</td>\n",
              "      <td>73311.000000</td>\n",
              "      <td>74001.000000</td>\n",
              "      <td>72901.000000</td>\n",
              "      <td>72901.000000</td>\n",
              "      <td>73261.000000</td>\n",
              "      <td>73261.000000</td>\n",
              "      <td>73166.000000</td>\n",
              "      <td>72883.000000</td>\n",
              "      <td>73194.000000</td>\n",
              "      <td>73194.000000</td>\n",
              "      <td>73194.000000</td>\n",
              "      <td>73194.000000</td>\n",
              "      <td>73194.000000</td>\n",
              "      <td>73204.000000</td>\n",
              "      <td>73204.000000</td>\n",
              "      <td>73204.000000</td>\n",
              "      <td>73204.000000</td>\n",
              "      <td>73204.000000</td>\n",
              "      <td>73204.000000</td>\n",
              "      <td>73052.000000</td>\n",
              "      <td>74001.000000</td>\n",
              "      <td>73194.000000</td>\n",
              "      <td>73194.000000</td>\n",
              "      <td>73194.000000</td>\n",
              "      <td>73194.000000</td>\n",
              "      <td>73199.000000</td>\n",
              "    </tr>\n",
              "    <tr>\n",
              "      <th>mean</th>\n",
              "      <td>2.839113e+10</td>\n",
              "      <td>4325.591465</td>\n",
              "      <td>2127.648816</td>\n",
              "      <td>2197.942649</td>\n",
              "      <td>16.862810</td>\n",
              "      <td>62.032106</td>\n",
              "      <td>13.272581</td>\n",
              "      <td>0.727726</td>\n",
              "      <td>4.588253</td>\n",
              "      <td>0.145012</td>\n",
              "      <td>3043.079566</td>\n",
              "      <td>57225.564862</td>\n",
              "      <td>9134.493848</td>\n",
              "      <td>28491.234299</td>\n",
              "      <td>3942.909229</td>\n",
              "      <td>16.958020</td>\n",
              "      <td>22.486827</td>\n",
              "      <td>34.798843</td>\n",
              "      <td>19.101381</td>\n",
              "      <td>23.951559</td>\n",
              "      <td>9.292337</td>\n",
              "      <td>12.856005</td>\n",
              "      <td>75.533887</td>\n",
              "      <td>9.627468</td>\n",
              "      <td>5.456050</td>\n",
              "      <td>3.123340</td>\n",
              "      <td>1.891606</td>\n",
              "      <td>4.368093</td>\n",
              "      <td>25.667357</td>\n",
              "      <td>1983.907366</td>\n",
              "      <td>78.975238</td>\n",
              "      <td>14.621566</td>\n",
              "      <td>6.233814</td>\n",
              "      <td>0.169772</td>\n",
              "      <td>9.028663</td>\n",
              "    </tr>\n",
              "    <tr>\n",
              "      <th>std</th>\n",
              "      <td>1.647593e+10</td>\n",
              "      <td>2129.306903</td>\n",
              "      <td>1072.332031</td>\n",
              "      <td>1095.730931</td>\n",
              "      <td>22.940695</td>\n",
              "      <td>30.684152</td>\n",
              "      <td>21.762483</td>\n",
              "      <td>4.488340</td>\n",
              "      <td>8.794003</td>\n",
              "      <td>1.037354</td>\n",
              "      <td>1475.492946</td>\n",
              "      <td>28663.331962</td>\n",
              "      <td>5920.336551</td>\n",
              "      <td>15047.068660</td>\n",
              "      <td>3023.027898</td>\n",
              "      <td>13.196518</td>\n",
              "      <td>19.190909</td>\n",
              "      <td>15.007075</td>\n",
              "      <td>8.279143</td>\n",
              "      <td>5.957279</td>\n",
              "      <td>6.023290</td>\n",
              "      <td>7.671588</td>\n",
              "      <td>15.371620</td>\n",
              "      <td>5.367321</td>\n",
              "      <td>11.724287</td>\n",
              "      <td>5.881237</td>\n",
              "      <td>2.596198</td>\n",
              "      <td>3.904990</td>\n",
              "      <td>6.964881</td>\n",
              "      <td>1073.429808</td>\n",
              "      <td>8.345758</td>\n",
              "      <td>7.535786</td>\n",
              "      <td>4.042990</td>\n",
              "      <td>0.458227</td>\n",
              "      <td>5.955441</td>\n",
              "    </tr>\n",
              "    <tr>\n",
              "      <th>min</th>\n",
              "      <td>1.001020e+09</td>\n",
              "      <td>0.000000</td>\n",
              "      <td>0.000000</td>\n",
              "      <td>0.000000</td>\n",
              "      <td>0.000000</td>\n",
              "      <td>0.000000</td>\n",
              "      <td>0.000000</td>\n",
              "      <td>0.000000</td>\n",
              "      <td>0.000000</td>\n",
              "      <td>0.000000</td>\n",
              "      <td>0.000000</td>\n",
              "      <td>2611.000000</td>\n",
              "      <td>390.000000</td>\n",
              "      <td>128.000000</td>\n",
              "      <td>85.000000</td>\n",
              "      <td>0.000000</td>\n",
              "      <td>0.000000</td>\n",
              "      <td>0.000000</td>\n",
              "      <td>0.000000</td>\n",
              "      <td>0.000000</td>\n",
              "      <td>0.000000</td>\n",
              "      <td>0.000000</td>\n",
              "      <td>0.000000</td>\n",
              "      <td>0.000000</td>\n",
              "      <td>0.000000</td>\n",
              "      <td>0.000000</td>\n",
              "      <td>0.000000</td>\n",
              "      <td>0.000000</td>\n",
              "      <td>1.200000</td>\n",
              "      <td>0.000000</td>\n",
              "      <td>0.000000</td>\n",
              "      <td>0.000000</td>\n",
              "      <td>0.000000</td>\n",
              "      <td>0.000000</td>\n",
              "      <td>0.000000</td>\n",
              "    </tr>\n",
              "    <tr>\n",
              "      <th>25%</th>\n",
              "      <td>1.303901e+10</td>\n",
              "      <td>2891.000000</td>\n",
              "      <td>1409.000000</td>\n",
              "      <td>1461.000000</td>\n",
              "      <td>2.400000</td>\n",
              "      <td>39.400000</td>\n",
              "      <td>0.700000</td>\n",
              "      <td>0.000000</td>\n",
              "      <td>0.200000</td>\n",
              "      <td>0.000000</td>\n",
              "      <td>2037.000000</td>\n",
              "      <td>37683.000000</td>\n",
              "      <td>5317.000000</td>\n",
              "      <td>19123.000000</td>\n",
              "      <td>2312.000000</td>\n",
              "      <td>7.200000</td>\n",
              "      <td>7.000000</td>\n",
              "      <td>24.100000</td>\n",
              "      <td>13.400000</td>\n",
              "      <td>20.100000</td>\n",
              "      <td>5.000000</td>\n",
              "      <td>7.100000</td>\n",
              "      <td>72.000000</td>\n",
              "      <td>6.000000</td>\n",
              "      <td>0.000000</td>\n",
              "      <td>0.400000</td>\n",
              "      <td>0.400000</td>\n",
              "      <td>1.800000</td>\n",
              "      <td>20.800000</td>\n",
              "      <td>1249.000000</td>\n",
              "      <td>74.600000</td>\n",
              "      <td>9.600000</td>\n",
              "      <td>3.500000</td>\n",
              "      <td>0.000000</td>\n",
              "      <td>5.100000</td>\n",
              "    </tr>\n",
              "    <tr>\n",
              "      <th>50%</th>\n",
              "      <td>2.804700e+10</td>\n",
              "      <td>4063.000000</td>\n",
              "      <td>1986.000000</td>\n",
              "      <td>2066.000000</td>\n",
              "      <td>7.000000</td>\n",
              "      <td>71.400000</td>\n",
              "      <td>3.700000</td>\n",
              "      <td>0.000000</td>\n",
              "      <td>1.400000</td>\n",
              "      <td>0.000000</td>\n",
              "      <td>2863.000000</td>\n",
              "      <td>51094.000000</td>\n",
              "      <td>7732.000000</td>\n",
              "      <td>25344.000000</td>\n",
              "      <td>3127.000000</td>\n",
              "      <td>13.400000</td>\n",
              "      <td>17.800000</td>\n",
              "      <td>32.600000</td>\n",
              "      <td>17.900000</td>\n",
              "      <td>23.800000</td>\n",
              "      <td>8.400000</td>\n",
              "      <td>11.800000</td>\n",
              "      <td>79.700000</td>\n",
              "      <td>8.800000</td>\n",
              "      <td>1.100000</td>\n",
              "      <td>1.400000</td>\n",
              "      <td>1.100000</td>\n",
              "      <td>3.500000</td>\n",
              "      <td>25.000000</td>\n",
              "      <td>1846.000000</td>\n",
              "      <td>80.100000</td>\n",
              "      <td>13.400000</td>\n",
              "      <td>5.500000</td>\n",
              "      <td>0.000000</td>\n",
              "      <td>7.700000</td>\n",
              "    </tr>\n",
              "    <tr>\n",
              "      <th>75%</th>\n",
              "      <td>4.200341e+10</td>\n",
              "      <td>5442.000000</td>\n",
              "      <td>2674.000000</td>\n",
              "      <td>2774.000000</td>\n",
              "      <td>20.400000</td>\n",
              "      <td>88.300000</td>\n",
              "      <td>14.400000</td>\n",
              "      <td>0.400000</td>\n",
              "      <td>4.800000</td>\n",
              "      <td>0.000000</td>\n",
              "      <td>3838.000000</td>\n",
              "      <td>70117.000000</td>\n",
              "      <td>11258.000000</td>\n",
              "      <td>33894.000000</td>\n",
              "      <td>4537.000000</td>\n",
              "      <td>23.100000</td>\n",
              "      <td>33.800000</td>\n",
              "      <td>43.875000</td>\n",
              "      <td>23.600000</td>\n",
              "      <td>27.500000</td>\n",
              "      <td>12.500000</td>\n",
              "      <td>17.400000</td>\n",
              "      <td>84.900000</td>\n",
              "      <td>12.300000</td>\n",
              "      <td>4.700000</td>\n",
              "      <td>3.500000</td>\n",
              "      <td>2.500000</td>\n",
              "      <td>5.900000</td>\n",
              "      <td>29.800000</td>\n",
              "      <td>2553.000000</td>\n",
              "      <td>84.600000</td>\n",
              "      <td>18.200000</td>\n",
              "      <td>8.100000</td>\n",
              "      <td>0.000000</td>\n",
              "      <td>11.400000</td>\n",
              "    </tr>\n",
              "    <tr>\n",
              "      <th>max</th>\n",
              "      <td>7.215375e+10</td>\n",
              "      <td>53812.000000</td>\n",
              "      <td>27962.000000</td>\n",
              "      <td>27250.000000</td>\n",
              "      <td>100.000000</td>\n",
              "      <td>100.000000</td>\n",
              "      <td>100.000000</td>\n",
              "      <td>100.000000</td>\n",
              "      <td>91.300000</td>\n",
              "      <td>84.700000</td>\n",
              "      <td>37416.000000</td>\n",
              "      <td>248750.000000</td>\n",
              "      <td>123116.000000</td>\n",
              "      <td>254204.000000</td>\n",
              "      <td>134380.000000</td>\n",
              "      <td>100.000000</td>\n",
              "      <td>100.000000</td>\n",
              "      <td>100.000000</td>\n",
              "      <td>100.000000</td>\n",
              "      <td>100.000000</td>\n",
              "      <td>100.000000</td>\n",
              "      <td>100.000000</td>\n",
              "      <td>100.000000</td>\n",
              "      <td>100.000000</td>\n",
              "      <td>100.000000</td>\n",
              "      <td>100.000000</td>\n",
              "      <td>100.000000</td>\n",
              "      <td>100.000000</td>\n",
              "      <td>80.000000</td>\n",
              "      <td>24075.000000</td>\n",
              "      <td>100.000000</td>\n",
              "      <td>100.000000</td>\n",
              "      <td>100.000000</td>\n",
              "      <td>26.500000</td>\n",
              "      <td>100.000000</td>\n",
              "    </tr>\n",
              "  </tbody>\n",
              "</table>\n",
              "</div>\n",
              "      <button class=\"colab-df-convert\" onclick=\"convertToInteractive('df-fd0b6568-7e2b-4a3f-9a42-17518636e2b2')\"\n",
              "              title=\"Convert this dataframe to an interactive table.\"\n",
              "              style=\"display:none;\">\n",
              "        \n",
              "  <svg xmlns=\"http://www.w3.org/2000/svg\" height=\"24px\"viewBox=\"0 0 24 24\"\n",
              "       width=\"24px\">\n",
              "    <path d=\"M0 0h24v24H0V0z\" fill=\"none\"/>\n",
              "    <path d=\"M18.56 5.44l.94 2.06.94-2.06 2.06-.94-2.06-.94-.94-2.06-.94 2.06-2.06.94zm-11 1L8.5 8.5l.94-2.06 2.06-.94-2.06-.94L8.5 2.5l-.94 2.06-2.06.94zm10 10l.94 2.06.94-2.06 2.06-.94-2.06-.94-.94-2.06-.94 2.06-2.06.94z\"/><path d=\"M17.41 7.96l-1.37-1.37c-.4-.4-.92-.59-1.43-.59-.52 0-1.04.2-1.43.59L10.3 9.45l-7.72 7.72c-.78.78-.78 2.05 0 2.83L4 21.41c.39.39.9.59 1.41.59.51 0 1.02-.2 1.41-.59l7.78-7.78 2.81-2.81c.8-.78.8-2.07 0-2.86zM5.41 20L4 18.59l7.72-7.72 1.47 1.35L5.41 20z\"/>\n",
              "  </svg>\n",
              "      </button>\n",
              "      \n",
              "  <style>\n",
              "    .colab-df-container {\n",
              "      display:flex;\n",
              "      flex-wrap:wrap;\n",
              "      gap: 12px;\n",
              "    }\n",
              "\n",
              "    .colab-df-convert {\n",
              "      background-color: #E8F0FE;\n",
              "      border: none;\n",
              "      border-radius: 50%;\n",
              "      cursor: pointer;\n",
              "      display: none;\n",
              "      fill: #1967D2;\n",
              "      height: 32px;\n",
              "      padding: 0 0 0 0;\n",
              "      width: 32px;\n",
              "    }\n",
              "\n",
              "    .colab-df-convert:hover {\n",
              "      background-color: #E2EBFA;\n",
              "      box-shadow: 0px 1px 2px rgba(60, 64, 67, 0.3), 0px 1px 3px 1px rgba(60, 64, 67, 0.15);\n",
              "      fill: #174EA6;\n",
              "    }\n",
              "\n",
              "    [theme=dark] .colab-df-convert {\n",
              "      background-color: #3B4455;\n",
              "      fill: #D2E3FC;\n",
              "    }\n",
              "\n",
              "    [theme=dark] .colab-df-convert:hover {\n",
              "      background-color: #434B5C;\n",
              "      box-shadow: 0px 1px 3px 1px rgba(0, 0, 0, 0.15);\n",
              "      filter: drop-shadow(0px 1px 2px rgba(0, 0, 0, 0.3));\n",
              "      fill: #FFFFFF;\n",
              "    }\n",
              "  </style>\n",
              "\n",
              "      <script>\n",
              "        const buttonEl =\n",
              "          document.querySelector('#df-fd0b6568-7e2b-4a3f-9a42-17518636e2b2 button.colab-df-convert');\n",
              "        buttonEl.style.display =\n",
              "          google.colab.kernel.accessAllowed ? 'block' : 'none';\n",
              "\n",
              "        async function convertToInteractive(key) {\n",
              "          const element = document.querySelector('#df-fd0b6568-7e2b-4a3f-9a42-17518636e2b2');\n",
              "          const dataTable =\n",
              "            await google.colab.kernel.invokeFunction('convertToInteractive',\n",
              "                                                     [key], {});\n",
              "          if (!dataTable) return;\n",
              "\n",
              "          const docLinkHtml = 'Like what you see? Visit the ' +\n",
              "            '<a target=\"_blank\" href=https://colab.research.google.com/notebooks/data_table.ipynb>data table notebook</a>'\n",
              "            + ' to learn more about interactive tables.';\n",
              "          element.innerHTML = '';\n",
              "          dataTable['output_type'] = 'display_data';\n",
              "          await google.colab.output.renderOutput(dataTable, element);\n",
              "          const docLink = document.createElement('div');\n",
              "          docLink.innerHTML = docLinkHtml;\n",
              "          element.appendChild(docLink);\n",
              "        }\n",
              "      </script>\n",
              "    </div>\n",
              "  </div>\n",
              "  "
            ],
            "text/plain": [
              "        CensusTract      TotalPop  ...    FamilyWork  Unemployment\n",
              "count  7.400100e+04  74001.000000  ...  73194.000000  73199.000000\n",
              "mean   2.839113e+10   4325.591465  ...      0.169772      9.028663\n",
              "std    1.647593e+10   2129.306903  ...      0.458227      5.955441\n",
              "min    1.001020e+09      0.000000  ...      0.000000      0.000000\n",
              "25%    1.303901e+10   2891.000000  ...      0.000000      5.100000\n",
              "50%    2.804700e+10   4063.000000  ...      0.000000      7.700000\n",
              "75%    4.200341e+10   5442.000000  ...      0.000000     11.400000\n",
              "max    7.215375e+10  53812.000000  ...     26.500000    100.000000\n",
              "\n",
              "[8 rows x 35 columns]"
            ]
          },
          "execution_count": 12,
          "metadata": {},
          "output_type": "execute_result"
        }
      ],
      "source": [
        "data.describe()"
      ]
    },
    {
      "cell_type": "code",
      "execution_count": null,
      "metadata": {
        "colab": {
          "base_uri": "https://localhost:8080/"
        },
        "id": "7YYhXKuc8XjF",
        "outputId": "051dc1fa-0b4a-449f-d7a8-c76ce01351c0"
      },
      "outputs": [
        {
          "data": {
            "text/plain": [
              "Index(['CensusTract', 'State', 'County', 'TotalPop', 'Men', 'Women',\n",
              "       'Hispanic', 'White', 'Black', 'Native', 'Asian', 'Pacific', 'Citizen',\n",
              "       'Income', 'IncomeErr', 'IncomePerCap', 'IncomePerCapErr', 'Poverty',\n",
              "       'ChildPoverty', 'Professional', 'Service', 'Office', 'Construction',\n",
              "       'Production', 'Drive', 'Carpool', 'Transit', 'Walk', 'OtherTransp',\n",
              "       'WorkAtHome', 'MeanCommute', 'Employed', 'PrivateWork', 'PublicWork',\n",
              "       'SelfEmployed', 'FamilyWork', 'Unemployment'],\n",
              "      dtype='object')"
            ]
          },
          "execution_count": 13,
          "metadata": {},
          "output_type": "execute_result"
        }
      ],
      "source": [
        "data.columns"
      ]
    },
    {
      "cell_type": "code",
      "execution_count": null,
      "metadata": {
        "colab": {
          "base_uri": "https://localhost:8080/"
        },
        "id": "jx7v_gSK7QnZ",
        "outputId": "2f17e2ee-ee74-4cbd-e9dc-7ab3bec5cdf7"
      },
      "outputs": [
        {
          "name": "stdout",
          "output_type": "stream",
          "text": [
            "CensusTract           0\n",
            "State                 0\n",
            "County                0\n",
            "TotalPop              0\n",
            "Men                   0\n",
            "Women                 0\n",
            "Hispanic            690\n",
            "White               690\n",
            "Black               690\n",
            "Native              690\n",
            "Asian               690\n",
            "Pacific             690\n",
            "Citizen               0\n",
            "Income             1100\n",
            "IncomeErr          1100\n",
            "IncomePerCap        740\n",
            "IncomePerCapErr     740\n",
            "Poverty             835\n",
            "ChildPoverty       1118\n",
            "Professional        807\n",
            "Service             807\n",
            "Office              807\n",
            "Construction        807\n",
            "Production          807\n",
            "Drive               797\n",
            "Carpool             797\n",
            "Transit             797\n",
            "Walk                797\n",
            "OtherTransp         797\n",
            "WorkAtHome          797\n",
            "MeanCommute         949\n",
            "Employed              0\n",
            "PrivateWork         807\n",
            "PublicWork          807\n",
            "SelfEmployed        807\n",
            "FamilyWork          807\n",
            "Unemployment        802\n",
            "dtype: int64\n"
          ]
        }
      ],
      "source": [
        "print(data.isnull().sum())"
      ]
    },
    {
      "cell_type": "code",
      "execution_count": null,
      "metadata": {
        "colab": {
          "base_uri": "https://localhost:8080/"
        },
        "id": "dzB0JYCv8dou",
        "outputId": "5113d7e3-270b-49b4-e3d8-aacd2eef586a"
      },
      "outputs": [
        {
          "data": {
            "text/plain": [
              "CensusTract        72727\n",
              "State              72727\n",
              "County             72727\n",
              "TotalPop           72727\n",
              "Men                72727\n",
              "Women              72727\n",
              "Hispanic           72727\n",
              "White              72727\n",
              "Black              72727\n",
              "Native             72727\n",
              "Asian              72727\n",
              "Pacific            72727\n",
              "Citizen            72727\n",
              "Income             72727\n",
              "IncomeErr          72727\n",
              "IncomePerCap       72727\n",
              "IncomePerCapErr    72727\n",
              "Poverty            72727\n",
              "ChildPoverty       72727\n",
              "Professional       72727\n",
              "Service            72727\n",
              "Office             72727\n",
              "Construction       72727\n",
              "Production         72727\n",
              "Drive              72727\n",
              "Carpool            72727\n",
              "Transit            72727\n",
              "Walk               72727\n",
              "OtherTransp        72727\n",
              "WorkAtHome         72727\n",
              "MeanCommute        72727\n",
              "Employed           72727\n",
              "PrivateWork        72727\n",
              "PublicWork         72727\n",
              "SelfEmployed       72727\n",
              "FamilyWork         72727\n",
              "Unemployment       72727\n",
              "dtype: int64"
            ]
          },
          "execution_count": 15,
          "metadata": {},
          "output_type": "execute_result"
        }
      ],
      "source": [
        "data=data.dropna()\n",
        "data.count()\n"
      ]
    },
    {
      "cell_type": "code",
      "execution_count": null,
      "metadata": {
        "colab": {
          "base_uri": "https://localhost:8080/"
        },
        "id": "s0sD-KQd8rz0",
        "outputId": "791aa24b-6550-4277-f558-0207959bc6fc"
      },
      "outputs": [
        {
          "name": "stdout",
          "output_type": "stream",
          "text": [
            "CensusTract        0\n",
            "State              0\n",
            "County             0\n",
            "TotalPop           0\n",
            "Men                0\n",
            "Women              0\n",
            "Hispanic           0\n",
            "White              0\n",
            "Black              0\n",
            "Native             0\n",
            "Asian              0\n",
            "Pacific            0\n",
            "Citizen            0\n",
            "Income             0\n",
            "IncomeErr          0\n",
            "IncomePerCap       0\n",
            "IncomePerCapErr    0\n",
            "Poverty            0\n",
            "ChildPoverty       0\n",
            "Professional       0\n",
            "Service            0\n",
            "Office             0\n",
            "Construction       0\n",
            "Production         0\n",
            "Drive              0\n",
            "Carpool            0\n",
            "Transit            0\n",
            "Walk               0\n",
            "OtherTransp        0\n",
            "WorkAtHome         0\n",
            "MeanCommute        0\n",
            "Employed           0\n",
            "PrivateWork        0\n",
            "PublicWork         0\n",
            "SelfEmployed       0\n",
            "FamilyWork         0\n",
            "Unemployment       0\n",
            "dtype: int64\n"
          ]
        }
      ],
      "source": [
        "print(data.isnull().sum())"
      ]
    },
    {
      "cell_type": "code",
      "execution_count": null,
      "metadata": {
        "colab": {
          "base_uri": "https://localhost:8080/"
        },
        "id": "tXsBs6aT8u_M",
        "outputId": "bf03cfa1-a5f4-4b92-a012-5d50c722ebad"
      },
      "outputs": [
        {
          "data": {
            "text/plain": [
              "CensusTract        72727\n",
              "State                 52\n",
              "County              1926\n",
              "TotalPop            9486\n",
              "Men                 5494\n",
              "Women               5583\n",
              "Hispanic            1001\n",
              "White               1001\n",
              "Black               1000\n",
              "Native               462\n",
              "Asian                763\n",
              "Pacific              175\n",
              "Citizen             7140\n",
              "Income             41503\n",
              "IncomeErr          19118\n",
              "IncomePerCap       35570\n",
              "IncomePerCapErr    10506\n",
              "Poverty              815\n",
              "ChildPoverty         960\n",
              "Professional         864\n",
              "Service              589\n",
              "Office               470\n",
              "Construction         481\n",
              "Production           491\n",
              "Drive                977\n",
              "Carpool              413\n",
              "Transit              831\n",
              "Walk                 565\n",
              "OtherTransp          286\n",
              "WorkAtHome           338\n",
              "MeanCommute          521\n",
              "Employed            5450\n",
              "PrivateWork          676\n",
              "PublicWork           631\n",
              "SelfEmployed         315\n",
              "FamilyWork            73\n",
              "Unemployment         468\n",
              "dtype: int64"
            ]
          },
          "execution_count": 17,
          "metadata": {},
          "output_type": "execute_result"
        }
      ],
      "source": [
        "data.nunique()"
      ]
    },
    {
      "cell_type": "code",
      "execution_count": null,
      "metadata": {
        "colab": {
          "base_uri": "https://localhost:8080/"
        },
        "id": "yscnC9uo9Dk_",
        "outputId": "9c75c293-c7b7-44e7-b923-0459b2cab0b7"
      },
      "outputs": [
        {
          "data": {
            "text/plain": [
              "array(['Alabama', 'Alaska', 'Arizona', 'Arkansas', 'California',\n",
              "       'Colorado', 'Connecticut', 'Delaware', 'District of Columbia',\n",
              "       'Florida', 'Georgia', 'Hawaii', 'Idaho', 'Illinois', 'Indiana',\n",
              "       'Iowa', 'Kansas', 'Kentucky', 'Louisiana', 'Maine', 'Maryland',\n",
              "       'Massachusetts', 'Michigan', 'Minnesota', 'Mississippi',\n",
              "       'Missouri', 'Montana', 'Nebraska', 'Nevada', 'New Hampshire',\n",
              "       'New Jersey', 'New Mexico', 'New York', 'North Carolina',\n",
              "       'North Dakota', 'Ohio', 'Oklahoma', 'Oregon', 'Pennsylvania',\n",
              "       'Rhode Island', 'South Carolina', 'South Dakota', 'Tennessee',\n",
              "       'Texas', 'Utah', 'Vermont', 'Virginia', 'Washington',\n",
              "       'West Virginia', 'Wisconsin', 'Wyoming', 'Puerto Rico'],\n",
              "      dtype=object)"
            ]
          },
          "execution_count": 18,
          "metadata": {},
          "output_type": "execute_result"
        }
      ],
      "source": [
        "data['State'].unique()"
      ]
    },
    {
      "cell_type": "code",
      "execution_count": null,
      "metadata": {
        "colab": {
          "base_uri": "https://localhost:8080/"
        },
        "id": "HwkRBOlC9GMW",
        "outputId": "e634f987-67c9-4967-865a-53f76e1810b4"
      },
      "outputs": [
        {
          "data": {
            "text/plain": [
              "Index(['CensusTract', 'State', 'County', 'TotalPop', 'Men', 'Women',\n",
              "       'Hispanic', 'White', 'Black', 'Native', 'Asian', 'Pacific', 'Citizen',\n",
              "       'Income', 'IncomeErr', 'IncomePerCap', 'IncomePerCapErr', 'Poverty',\n",
              "       'ChildPoverty', 'Professional', 'Service', 'Office', 'Construction',\n",
              "       'Production', 'Drive', 'Carpool', 'Transit', 'Walk', 'OtherTransp',\n",
              "       'WorkAtHome', 'MeanCommute', 'Employed', 'PrivateWork', 'PublicWork',\n",
              "       'SelfEmployed', 'FamilyWork', 'Unemployment'],\n",
              "      dtype='object')"
            ]
          },
          "execution_count": 19,
          "metadata": {},
          "output_type": "execute_result"
        }
      ],
      "source": [
        "data.columns\n"
      ]
    },
    {
      "cell_type": "code",
      "execution_count": null,
      "metadata": {
        "colab": {
          "background_save": true
        },
        "id": "6Z7kWc109RVL",
        "outputId": "3dce5894-6a19-41da-90f4-972e40480088"
      },
      "outputs": [],
      "source": [
        "sns.pairplot(data)"
      ]
    },
    {
      "cell_type": "code",
      "execution_count": null,
      "metadata": {
        "colab": {
          "base_uri": "https://localhost:8080/"
        },
        "id": "OhOerVJMIeCX",
        "outputId": "25328148-e345-4c6e-82f9-b22d01556094"
      },
      "outputs": [
        {
          "data": {
            "text/plain": [
              "Index(['CensusTract', 'State', 'County', 'TotalPop', 'Men', 'Women',\n",
              "       'Hispanic', 'White', 'Black', 'Native', 'Asian', 'Pacific', 'Citizen',\n",
              "       'Income', 'IncomeErr', 'IncomePerCap', 'IncomePerCapErr', 'Poverty',\n",
              "       'ChildPoverty', 'Professional', 'Service', 'Office', 'Construction',\n",
              "       'Production', 'Drive', 'Carpool', 'Transit', 'Walk', 'OtherTransp',\n",
              "       'WorkAtHome', 'MeanCommute', 'Employed', 'PrivateWork', 'PublicWork',\n",
              "       'SelfEmployed', 'FamilyWork', 'Unemployment'],\n",
              "      dtype='object')"
            ]
          },
          "execution_count": 43,
          "metadata": {},
          "output_type": "execute_result"
        }
      ],
      "source": [
        "data.columns"
      ]
    },
    {
      "cell_type": "code",
      "execution_count": null,
      "metadata": {
        "colab": {
          "base_uri": "https://localhost:8080/",
          "height": 386
        },
        "id": "002nMV5MHrw0",
        "outputId": "b033878f-4ec7-42ee-debe-0c6aedae4d50"
      },
      "outputs": [
        {
          "data": {
            "text/plain": [
              "<seaborn.axisgrid.FacetGrid at 0x7f5850870cd0>"
            ]
          },
          "execution_count": 68,
          "metadata": {},
          "output_type": "execute_result"
        },
        {
          "data": {
            "image/png": "[encoded data removed]",
            "text/plain": [
              "<Figure size 434.6x360 with 1 Axes>"
            ]
          },
          "metadata": {},
          "output_type": "display_data"
        }
      ],
      "source": [
        "sns.relplot(x='Employed',y='Unemployment',hue='TotalPop',data=data)"
      ]
    },
    {
      "cell_type": "markdown",
      "source": [
        "from this graph we can conclude that as the total population increases in that the no. of employed people is grater than the no. of unemployed people."
      ],
      "metadata": {
        "id": "AWcvqkhoE5gF"
      }
    },
    {
      "cell_type": "code",
      "execution_count": null,
      "metadata": {
        "colab": {
          "base_uri": "https://localhost:8080/",
          "height": 386
        },
        "id": "vvvXSxmGLi5n",
        "outputId": "2191aa16-b1a9-45b4-bacf-5e3a136142c6"
      },
      "outputs": [
        {
          "data": {
            "text/plain": [
              "<seaborn.axisgrid.FacetGrid at 0x7f58507a7390>"
            ]
          },
          "execution_count": 73,
          "metadata": {},
          "output_type": "execute_result"
        },
        {
          "data": {
            "image/png": "[encoded data removed]",
            "text/plain": [
              "<Figure size 434.6x360 with 1 Axes>"
            ]
          },
          "metadata": {},
          "output_type": "display_data"
        }
      ],
      "source": [
        "sns.relplot(x='Men',y='Women',hue='TotalPop',data=data)"
      ]
    },
    {
      "cell_type": "markdown",
      "source": [
        "from this graph we can conclude that the as the no. of men and women is increases equally."
      ],
      "metadata": {
        "id": "CG0Gj3I8FrMQ"
      }
    },
    {
      "cell_type": "code",
      "execution_count": null,
      "metadata": {
        "colab": {
          "base_uri": "https://localhost:8080/",
          "height": 386
        },
        "id": "vNJfSzFaMs5w",
        "outputId": "7efb82ef-4ea7-43a2-b66d-5b83cf92a2ed"
      },
      "outputs": [
        {
          "data": {
            "text/plain": [
              "<seaborn.axisgrid.FacetGrid at 0x7f58508783d0>"
            ]
          },
          "execution_count": 66,
          "metadata": {},
          "output_type": "execute_result"
        },
        {
          "data": {
            "image/png": "[encoded data removed]",
            "text/plain": [
              "<Figure size 360x360 with 1 Axes>"
            ]
          },
          "metadata": {},
          "output_type": "display_data"
        }
      ],
      "source": [
        "sns.catplot(x='Income',kind='box',data=data)"
      ]
    },
    {
      "cell_type": "markdown",
      "source": [
        "from this graph we can conclude the average income  is between 50000 to 1000000"
      ],
      "metadata": {
        "id": "c0UuctUQF6Y2"
      }
    },
    {
      "cell_type": "code",
      "execution_count": null,
      "metadata": {
        "colab": {
          "base_uri": "https://localhost:8080/",
          "height": 382
        },
        "id": "Z1wvKtA8rRqo",
        "outputId": "22775bae-aac0-4e53-f6e2-96507c516fd4"
      },
      "outputs": [
        {
          "output_type": "execute_result",
          "data": {
            "text/plain": [
              "<seaborn.axisgrid.FacetGrid at 0x7f25b7025910>"
            ]
          },
          "metadata": {},
          "execution_count": 8
        },
        {
          "output_type": "display_data",
          "data": {
            "image/png": "[encoded data removed]",
            "text/plain": [
              "<Figure size 360x360 with 1 Axes>"
            ]
          },
          "metadata": {}
        }
      ],
      "source": [
        "sns.catplot(x='TotalPop',kind='box',data=data)"
      ]
    },
    {
      "cell_type": "markdown",
      "source": [
        "from this graph we can conclude that the most of the state has their total population is between 0 to 10000\n"
      ],
      "metadata": {
        "id": "LLxoghe1oNNc"
      }
    },
    {
      "cell_type": "code",
      "source": [
        "sns.boxplot(data.Poverty)"
      ],
      "metadata": {
        "colab": {
          "base_uri": "https://localhost:8080/",
          "height": 357
        },
        "id": "ucwBwW6c39-Z",
        "outputId": "8a39ee73-2c34-4554-c42a-b72a4a83dc81"
      },
      "execution_count": null,
      "outputs": [
        {
          "output_type": "stream",
          "name": "stderr",
          "text": [
            "/usr/local/lib/python3.7/dist-packages/seaborn/_decorators.py:43: FutureWarning: Pass the following variable as a keyword arg: x. From version 0.12, the only valid positional argument will be `data`, and passing other arguments without an explicit keyword will result in an error or misinterpretation.\n",
            "  FutureWarning\n"
          ]
        },
        {
          "output_type": "execute_result",
          "data": {
            "text/plain": [
              "<matplotlib.axes._subplots.AxesSubplot at 0x7f25b7142ed0>"
            ]
          },
          "metadata": {},
          "execution_count": 11
        },
        {
          "output_type": "display_data",
          "data": {
            "image/png": "[encoded data removed]",
            "text/plain": [
              "<Figure size 432x288 with 1 Axes>"
            ]
          },
          "metadata": {}
        }
      ]
    },
    {
      "cell_type": "markdown",
      "source": [
        "From the above result we see that the unemployment and employment variable is depended is on each other and also in the total population the population of men and women are increases equally and from the income result we can see that the average income of total population is between 50000-100000"
      ],
      "metadata": {
        "id": "R07r4MzV5w2v"
      }
    }
  ],
  "metadata": {
    "colab": {
      "collapsed_sections": [],
      "name": "EXPERIMENT1A.ipynb",
      "provenance": [],
      "mount_file_id": "11WBHYLt9UtsuR6sTCWq6xJefJOOWegAY",
      "authorship_tag": "ABX9TyPGnrQyO0qiDzFpdJLLNcfn",
      "include_colab_link": true
    },
    "kernelspec": {
      "display_name": "Python 3",
      "name": "python3"
    },
    "language_info": {
      "name": "python"
    }
  },
  "nbformat": 4,
  "nbformat_minor": 0
}